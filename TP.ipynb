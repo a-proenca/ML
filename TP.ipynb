{
 "cells": [
  {
   "cell_type": "code",
   "execution_count": null,
   "id": "5ae4bcca",
   "metadata": {},
   "outputs": [],
   "source": [
    "import seaborn as sea\n",
    "import pandas as pd\n",
    "from matplotlib import pyplot as plt\n",
    "import numpy as np\n",
    "import string\n",
    "from imblearn.under_sampling import RandomUnderSampler\n",
    "from sklearn.model_selection import StratifiedShuffleSplit\n",
    "from sklearn.preprocessing import StandardScaler\n",
    "from sklearn.preprocessing import LabelEncoder\n",
    "from sklearn.preprocessing import LabelBinarizer"
   ]
  },
  {
   "cell_type": "markdown",
   "source": [
    "## Used functions"
   ],
   "metadata": {
    "collapsed": false
   }
  },
  {
   "cell_type": "code",
   "execution_count": null,
   "outputs": [],
   "source": [
    "def plotFigureBoxPlot(columnName, title, dataframe):\n",
    "    sea.boxplot(x=dataframe[columnName])\n",
    "    plt.title(title)"
   ],
   "metadata": {
    "collapsed": false
   }
  },
  {
   "cell_type": "code",
   "execution_count": null,
   "outputs": [],
   "source": [
    "def features_analysis(columnName, dataframe):\n",
    "    item = dataframe[columnName];\n",
    "    print(\"1. Quantitive measurement on Central tendency:\");\n",
    "    print(\"mean:\\t\", item.mean());\n",
    "    print(\"mode:\\t\", item.mode());\n",
    "    print(\"median:\\t\", item.median());\n",
    "\n",
    "    print(\"\\n2. Quantitive measurement on Variability:\");\n",
    "    print(\"variance:\\t\", item.var());\n",
    "    print(\"std deviation:\\t\", item.std());\n",
    "    print(\"percentils (25, 50, 75):\\t\", item.quantile([0, 0.25, 0.5, 0.75, 1]));\n",
    "    print(\"skrewness:\\t\", item.skew());\n",
    "    print(\"kurtosis:\\t\", item.kurtosis());"
   ],
   "metadata": {
    "collapsed": false
   }
  },
  {
   "cell_type": "code",
   "execution_count": null,
   "outputs": [],
   "source": [
    "def plotBarChart(dataset, columnName):\n",
    "    sea.set(style='whitegrid', palette=\"bright\", font_scale=1.1, rc={\"figure.figsize\": [8, 5]})\n",
    "    sea.histplot(x=columnName, data=dataset, bins=np.arange(0, 100, 5))\n",
    "    plt.title(string.capwords(columnName) + \" \" + \"distribution\")"
   ],
   "metadata": {
    "collapsed": false
   }
  },
  {
   "cell_type": "code",
   "execution_count": null,
   "outputs": [],
   "source": [
    "def plotPieChart(data, labels, title, color=None):\n",
    "    fig1, ax1 = plt.subplots()\n",
    "    if (color == None):\n",
    "        plt.style.use('seaborn-pastel')\n",
    "    ax1.pie(data,\n",
    "            labels=labels,\n",
    "            autopct=\"%.1f%%\",\n",
    "            startangle=90,\n",
    "            colors=color,\n",
    "            pctdistance=0.85)\n",
    "\n",
    "    fig = plt.gcf()\n",
    "    ax1.axis('equal')\n",
    "    plt.tight_layout()\n",
    "    plt.title(title)"
   ],
   "metadata": {
    "collapsed": false
   }
  },
  {
   "cell_type": "code",
   "execution_count": null,
   "outputs": [],
   "source": [
    "def plotBarChartByAgeRange(dataset, columnName, label, title):\n",
    "    ageRange = list(range(15, 95, 5))\n",
    "\n",
    "    plt.figure(figsize=(18, 25))\n",
    "    plt.subplot(3, 2, 1)\n",
    "    dataset.groupby(pd.cut(dataset.age, ageRange))[columnName].mean().plot.bar()\n",
    "    plt.ylabel(label)\n",
    "    plt.title(title)\n"
   ],
   "metadata": {
    "collapsed": false
   }
  },
  {
   "cell_type": "markdown",
   "source": [
    "## Dataset reading"
   ],
   "metadata": {
    "collapsed": false
   }
  },
  {
   "cell_type": "code",
   "execution_count": null,
   "id": "a2046705",
   "metadata": {},
   "outputs": [],
   "source": [
    "fullDataset = pd.read_csv('bank-full.csv', sep=';')"
   ]
  },
  {
   "cell_type": "markdown",
   "source": [
    "# ----------------------ANALISAR MISSING VALUES E LINHAS DUPLICADAS ----------------------------\n"
   ],
   "metadata": {
    "collapsed": false
   }
  },
  {
   "cell_type": "code",
   "execution_count": null,
   "id": "bd3ca9b5",
   "metadata": {},
   "outputs": [],
   "source": [
    "fullDataset.info()"
   ]
  },
  {
   "cell_type": "code",
   "execution_count": null,
   "id": "2599dbcf",
   "metadata": {},
   "outputs": [],
   "source": [
    "#check missing values\n",
    "fullDataset.count()"
   ]
  },
  {
   "cell_type": "code",
   "execution_count": null,
   "id": "452cc082",
   "metadata": {},
   "outputs": [],
   "source": [
    "#check if there are null values\n",
    "fullDataset.isnull().sum()"
   ]
  },
  {
   "cell_type": "code",
   "execution_count": null,
   "id": "4eec603e",
   "metadata": {},
   "outputs": [],
   "source": [
    "#check if there are Nan values\n",
    "fullDataset.isna().sum()"
   ]
  },
  {
   "cell_type": "code",
   "execution_count": null,
   "id": "7d256be0",
   "metadata": {},
   "outputs": [],
   "source": [
    "#check if there are duplicated values\n",
    "fullDataset.duplicated().sum()"
   ]
  },
  {
   "cell_type": "markdown",
   "source": [
    "# ------------------------------------- ANALISAR O NOSSO TARGET --------------------------------------------\n"
   ],
   "metadata": {
    "collapsed": false
   }
  },
  {
   "cell_type": "code",
   "execution_count": null,
   "id": "a892a0f2",
   "metadata": {},
   "outputs": [],
   "source": [
    "fullDataset.describe()"
   ]
  },
  {
   "cell_type": "code",
   "execution_count": null,
   "id": "501bc14d",
   "metadata": {},
   "outputs": [],
   "source": [
    "fullDataset.y.value_counts()"
   ]
  },
  {
   "cell_type": "markdown",
   "source": [
    "### Resampling Imbalanced Dataset"
   ],
   "metadata": {
    "collapsed": false
   }
  },
  {
   "cell_type": "code",
   "execution_count": null,
   "outputs": [],
   "source": [
    "rus = RandomUnderSampler(sampling_strategy='majority', random_state=1)\n",
    "xData, yData = rus.fit_resample(X, Y)\n",
    "\n",
    "yData = yData.reset_index()\n",
    "yData.drop('index', axis=1, inplace=True)\n",
    "\n",
    "dataset = pd.concat([xData, yData], axis=1)"
   ],
   "metadata": {
    "collapsed": false
   }
  },
  {
   "cell_type": "code",
   "execution_count": null,
   "outputs": [],
   "source": [
    "plt.figure(figsize=(12, 5))\n",
    "plt.subplot(1, 2, 1)\n",
    "sea.countplot(data=yData, x='y')\n",
    "plt.title('Target Count')\n",
    "plt.subplot(1, 2, 2)\n",
    "labels = yData['y'].value_counts(sort=True).index\n",
    "sizes = yData['y'].value_counts(sort=True)\n",
    "plt.pie(sizes, labels=labels, autopct='%.2f')\n",
    "plt.title('Target Yes and No')"
   ],
   "metadata": {
    "collapsed": false
   }
  },
  {
   "cell_type": "code",
   "execution_count": null,
   "outputs": [],
   "source": [
    "yData.y.value_counts()"
   ],
   "metadata": {
    "collapsed": false
   }
  },
  {
   "cell_type": "code",
   "execution_count": null,
   "outputs": [],
   "source": [
    "plt.figure(figsize=(12, 10))\n",
    "plt.subplot(2, 2, 1)\n",
    "sea.countplot(data=fullDataset, x='y')\n",
    "plt.title('Target Count')\n",
    "plt.subplot(2, 2, 2)\n",
    "labels = fullDataset['y'].value_counts(sort=True).index\n",
    "sizes = fullDataset['y'].value_counts(sort=True)\n",
    "plt.pie(sizes, labels=labels, autopct='%.2f')\n",
    "plt.title('Target Yes and No')"
   ],
   "metadata": {
    "collapsed": false
   }
  },
  {
   "cell_type": "markdown",
   "source": [
    "# --------------------------------------- ANALISAR OS DADOS CATEGORICOS --------------------------------"
   ],
   "metadata": {
    "collapsed": false
   }
  },
  {
   "cell_type": "code",
   "execution_count": null,
   "outputs": [],
   "source": [
    "plt.subplot(2, 2, 3)\n",
    "sea.countplot(data=yData, x='y')\n",
    "plt.title('Target Count')"
   ],
   "metadata": {
    "collapsed": false
   }
  },
  {
   "cell_type": "code",
   "execution_count": null,
   "outputs": [],
   "source": [
    "plt.subplot(2, 2, 4)\n",
    "labels = yData['y'].value_counts(sort=True).index\n",
    "sizes = yData['y'].value_counts(sort=True)\n",
    "plt.pie(sizes, labels=labels, autopct='%.2f')\n",
    "plt.title('Target Yes and No')"
   ],
   "metadata": {
    "collapsed": false
   }
  },
  {
   "cell_type": "markdown",
   "source": [
    "## Features Analysis"
   ],
   "metadata": {
    "collapsed": false
   }
  },
  {
   "cell_type": "markdown",
   "source": [
    "### Age"
   ],
   "metadata": {
    "collapsed": false
   }
  },
  {
   "cell_type": "code",
   "execution_count": null,
   "outputs": [],
   "source": [
    "features_analysis(\"age\", dataset)"
   ],
   "metadata": {
    "collapsed": false
   }
  },
  {
   "cell_type": "code",
   "execution_count": null,
   "outputs": [],
   "source": [
    "plotBarChart(dataset, \"age\")"
   ],
   "metadata": {
    "collapsed": false
   }
  },
  {
   "cell_type": "code",
   "execution_count": null,
   "outputs": [],
   "source": [
    "sea.boxplot(x=dataset[\"age\"])\n",
    "plt.title(\"Age quantiles\")"
   ],
   "metadata": {
    "collapsed": false
   }
  },
  {
   "cell_type": "markdown",
   "source": [
    "### Job"
   ],
   "metadata": {
    "collapsed": false
   }
  },
  {
   "cell_type": "code",
   "execution_count": null,
   "outputs": [],
   "source": [
    "features_analysis(\"job\", dataset)"
   ],
   "metadata": {
    "collapsed": false
   }
  },
  {
   "cell_type": "code",
   "execution_count": null,
   "outputs": [],
   "source": [
    "jobCounts = dataset[\"job\"].value_counts()\n",
    "jobCounts"
   ],
   "metadata": {
    "collapsed": false
   }
  },
  {
   "cell_type": "code",
   "execution_count": null,
   "outputs": [],
   "source": [
    "jobCountsPercentage = dataset[\"job\"].value_counts(normalize=True) * 100\n",
    "jobCountsPercentage"
   ],
   "metadata": {
    "collapsed": false
   }
  },
  {
   "cell_type": "code",
   "execution_count": null,
   "outputs": [],
   "source": [
    "plotBarChart(dataset, \"job\")\n",
    "\n",
    "plotPieChart(jobCounts.tolist(), jobCounts.keys(), \"job\")"
   ],
   "metadata": {
    "collapsed": false
   }
  },
  {
   "cell_type": "markdown",
   "source": [
    "### Marital status"
   ],
   "metadata": {
    "collapsed": false
   }
  },
  {
   "cell_type": "code",
   "execution_count": null,
   "outputs": [],
   "source": [
    "features_analysis(\"marital\", dataset)"
   ],
   "metadata": {
    "collapsed": false
   }
  },
  {
   "cell_type": "code",
   "execution_count": null,
   "outputs": [],
   "source": [
    "maritalCounts = dataset[\"marital\"].value_counts()\n",
    "maritalCounts"
   ],
   "metadata": {
    "collapsed": false
   }
  },
  {
   "cell_type": "code",
   "execution_count": null,
   "outputs": [],
   "source": [
    "maritalCountsPercentage = dataset[\"marital\"].value_counts(normalize=True) * 100\n",
    "maritalCountsPercentage"
   ],
   "metadata": {
    "collapsed": false
   }
  },
  {
   "cell_type": "code",
   "execution_count": null,
   "id": "1300877a",
   "metadata": {},
   "outputs": [],
   "source": [
    "plotBarChart(dataset, \"marital\")\n",
    "\n",
    "plotPieChart(maritalCounts.tolist(), maritalCounts.keys(), \"marital\")"
   ]
  },
  {
   "cell_type": "markdown",
   "source": [
    "### Education"
   ],
   "metadata": {
    "collapsed": false
   }
  },
  {
   "cell_type": "code",
   "execution_count": null,
   "outputs": [],
   "source": [
    "educationCounts = dataset[\"education\"].value_counts()\n",
    "educationCounts"
   ],
   "metadata": {
    "collapsed": false
   }
  },
  {
   "cell_type": "code",
   "execution_count": null,
   "outputs": [],
   "source": [
    "educationCountsPercentage = dataset[\"education\"].value_counts(normalize=True) * 100\n",
    "educationCountsPercentage"
   ],
   "metadata": {
    "collapsed": false
   }
  },
  {
   "cell_type": "code",
   "execution_count": null,
   "outputs": [],
   "source": [
    "plotBarChart(dataset, \"education\")\n",
    "\n",
    "plotPieChart(educationCounts.tolist(), educationCounts.keys(), \"education\")"
   ],
   "metadata": {
    "collapsed": false
   }
  },
  {
   "cell_type": "markdown",
   "source": [
    "### Default"
   ],
   "metadata": {
    "collapsed": false
   }
  },
  {
   "cell_type": "code",
   "execution_count": null,
   "outputs": [],
   "source": [
    "defaultCounts = dataset[\"default\"].value_counts()\n",
    "defaultCounts"
   ],
   "metadata": {
    "collapsed": false
   }
  },
  {
   "cell_type": "code",
   "execution_count": null,
   "outputs": [],
   "source": [
    "defaultCountsPercentage = dataset[\"default\"].value_counts(normalize=True) * 100\n",
    "defaultCountsPercentage"
   ],
   "metadata": {
    "collapsed": false
   }
  },
  {
   "cell_type": "code",
   "execution_count": null,
   "outputs": [],
   "source": [
    "plotBarChart(dataset, \"default\")\n",
    "\n",
    "plotPieChart(defaultCounts.tolist(), defaultCounts.keys(), \"default\")"
   ],
   "metadata": {
    "collapsed": false
   }
  },
  {
   "cell_type": "markdown",
   "source": [
    "### Housing"
   ],
   "metadata": {
    "collapsed": false
   }
  },
  {
   "cell_type": "code",
   "execution_count": null,
   "outputs": [],
   "source": [
    "defaultCounts = dataset[\"default\"].value_counts()\n",
    "defaultCounts"
   ],
   "metadata": {
    "collapsed": false
   }
  },
  {
   "cell_type": "code",
   "execution_count": null,
   "outputs": [],
   "source": [
    "defaultCountsPercentage = dataset[\"default\"].value_counts(normalize=True) * 100\n",
    "defaultCountsPercentage"
   ],
   "metadata": {
    "collapsed": false
   }
  },
  {
   "cell_type": "code",
   "execution_count": null,
   "outputs": [],
   "source": [
    "plotBarChart(dataset, \"default\")\n",
    "\n",
    "plotPieChart(defaultCounts.tolist(), defaultCounts.keys(), \"default\")"
   ],
   "metadata": {
    "collapsed": false
   }
  },
  {
   "cell_type": "markdown",
   "source": [
    "### Loan"
   ],
   "metadata": {
    "collapsed": false
   }
  },
  {
   "cell_type": "code",
   "execution_count": null,
   "outputs": [],
   "source": [
    "loanCounts = dataset[\"loan\"].value_counts()\n",
    "loanCounts"
   ],
   "metadata": {
    "collapsed": false
   }
  },
  {
   "cell_type": "code",
   "execution_count": null,
   "outputs": [],
   "source": [
    "loanCountsPercentage = dataset[\"loan\"].value_counts(normalize=True) * 100\n",
    "loanCountsPercentage"
   ],
   "metadata": {
    "collapsed": false
   }
  },
  {
   "cell_type": "code",
   "execution_count": null,
   "outputs": [],
   "source": [
    "plotBarChart(dataset, \"loan\")\n",
    "\n",
    "plotPieChart(loanCounts.tolist(), loanCounts.keys(), \"loan\")"
   ],
   "metadata": {
    "collapsed": false
   }
  },
  {
   "cell_type": "markdown",
   "source": [
    "### Contact"
   ],
   "metadata": {
    "collapsed": false
   }
  },
  {
   "cell_type": "code",
   "execution_count": null,
   "outputs": [],
   "source": [
    "contactCounts = dataset[\"contact\"].value_counts()\n",
    "contactCounts"
   ],
   "metadata": {
    "collapsed": false
   }
  },
  {
   "cell_type": "code",
   "execution_count": null,
   "outputs": [],
   "source": [
    "contactCountsPercentage = dataset[\"contact\"].value_counts(normalize=True) * 100\n",
    "contactCountsPercentage"
   ],
   "metadata": {
    "collapsed": false
   }
  },
  {
   "cell_type": "code",
   "execution_count": null,
   "outputs": [],
   "source": [
    "plotBarChart(dataset, \"contact\")\n",
    "\n",
    "plotPieChart(contactCounts.tolist(), contactCounts.keys(), \"contact\")"
   ],
   "metadata": {
    "collapsed": false
   }
  },
  {
   "cell_type": "markdown",
   "source": [
    "### Month"
   ],
   "metadata": {
    "collapsed": false
   }
  },
  {
   "cell_type": "code",
   "execution_count": null,
   "outputs": [],
   "source": [
    "monthCounts = dataset[\"month\"].value_counts()\n",
    "monthCounts"
   ],
   "metadata": {
    "collapsed": false
   }
  },
  {
   "cell_type": "code",
   "execution_count": null,
   "outputs": [],
   "source": [
    "monthCountsPercentage = dataset[\"month\"].value_counts(normalize=True) * 100\n",
    "monthCountsPercentage"
   ],
   "metadata": {
    "collapsed": false
   }
  },
  {
   "cell_type": "code",
   "execution_count": null,
   "outputs": [],
   "source": [
    "plotBarChart(dataset, \"month\")\n",
    "\n",
    "plotPieChart(monthCounts.tolist(), monthCounts.keys(), \"month\")"
   ],
   "metadata": {
    "collapsed": false
   }
  },
  {
   "cell_type": "markdown",
   "source": [
    "### Day of week"
   ],
   "metadata": {
    "collapsed": false
   }
  },
  {
   "cell_type": "code",
   "execution_count": null,
   "outputs": [],
   "source": [
    "dayOfWeekCounts = dataset[\"dayOfWeek\"].value_counts()\n",
    "dayOfWeekCounts"
   ],
   "metadata": {
    "collapsed": false
   }
  },
  {
   "cell_type": "code",
   "execution_count": null,
   "outputs": [],
   "source": [
    "dayOfWeekCountsPercentage = dataset[\"dayOfWeek\"].value_counts(normalize=True) * 100\n",
    "dayOfWeekCountsPercentage"
   ],
   "metadata": {
    "collapsed": false
   }
  },
  {
   "cell_type": "code",
   "execution_count": null,
   "outputs": [],
   "source": [
    "plotBarChart(dataset, \"dayOfWeek\")\n",
    "\n",
    "plotPieChart(dayOfWeekCounts.tolist(), dayOfWeekCounts.keys(), \"dayOfWeek\")"
   ],
   "metadata": {
    "collapsed": false
   }
  },
  {
   "cell_type": "markdown",
   "source": [
    "### Last contact duration"
   ],
   "metadata": {
    "collapsed": false
   }
  },
  {
   "cell_type": "code",
   "execution_count": null,
   "outputs": [],
   "source": [
    "durationCounts = dataset[\"duration\"].value_counts()\n",
    "durationCounts"
   ],
   "metadata": {
    "collapsed": false,
    "pycharm": {
     "is_executing": true
    }
   }
  },
  {
   "cell_type": "code",
   "execution_count": null,
   "outputs": [],
   "source": [
    "durationCountsPercentage = dataset[\"duration\"].value_counts(normalize=True) * 100\n",
    "durationCountsPercentage"
   ],
   "metadata": {
    "collapsed": false
   }
  },
  {
   "cell_type": "code",
   "execution_count": null,
   "outputs": [],
   "source": [
    "plotBarChart(dataset, \"duration\")\n",
    "\n",
    "plotPieChart(durationCounts.tolist(), durationCounts.keys(), \"duration\")"
   ],
   "metadata": {
    "collapsed": false
   }
  },
  {
   "cell_type": "markdown",
   "source": [
    "### Campaign"
   ],
   "metadata": {
    "collapsed": false
   }
  },
  {
   "cell_type": "code",
   "execution_count": null,
   "outputs": [],
   "source": [
    "features_analysis(\"campaign\", dataset)"
   ],
   "metadata": {
    "collapsed": false
   }
  },
  {
   "cell_type": "code",
   "execution_count": null,
   "outputs": [],
   "source": [
    "maritalCounts = dataset[\"campaign\"].value_counts()\n",
    "maritalCounts"
   ],
   "metadata": {
    "collapsed": false
   }
  },
  {
   "cell_type": "code",
   "execution_count": null,
   "outputs": [],
   "source": [
    "maritalCountsPercentage = dataset[\"campaign\"].value_counts(normalize=True) * 100\n",
    "maritalCountsPercentage"
   ],
   "metadata": {
    "collapsed": false
   }
  },
  {
   "cell_type": "code",
   "execution_count": null,
   "outputs": [],
   "source": [
    "plotBarChart(dataset, \"campaign\")\n",
    "\n",
    "plotPieChart(maritalCounts.tolist(), maritalCounts.keys(), \"campaign\")"
   ],
   "metadata": {
    "collapsed": false
   }
  },
  {
   "cell_type": "markdown",
   "source": [
    "### Pdays"
   ],
   "metadata": {
    "collapsed": false
   }
  },
  {
   "cell_type": "code",
   "execution_count": null,
   "outputs": [],
   "source": [
    "features_analysis(\"pDays\", dataset)"
   ],
   "metadata": {
    "collapsed": false
   }
  },
  {
   "cell_type": "code",
   "execution_count": null,
   "outputs": [],
   "source": [
    "maritalCounts = dataset[\"pDays\"].value_counts()\n",
    "maritalCounts"
   ],
   "metadata": {
    "collapsed": false
   }
  },
  {
   "cell_type": "code",
   "execution_count": null,
   "outputs": [],
   "source": [
    "maritalCountsPercentage = dataset[\"pDays\"].value_counts(normalize=True) * 100\n",
    "maritalCountsPercentage"
   ],
   "metadata": {
    "collapsed": false
   }
  },
  {
   "cell_type": "code",
   "execution_count": null,
   "outputs": [],
   "source": [
    "plotBarChart(dataset, \"pDays\")\n",
    "\n",
    "plotPieChart(maritalCounts.tolist(), maritalCounts.keys(), \"pDays\")"
   ],
   "metadata": {
    "collapsed": false
   }
  },
  {
   "cell_type": "markdown",
   "source": [
    "### Previous"
   ],
   "metadata": {
    "collapsed": false
   }
  },
  {
   "cell_type": "code",
   "execution_count": null,
   "outputs": [],
   "source": [
    "features_analysis(\"previous\", dataset)"
   ],
   "metadata": {
    "collapsed": false
   }
  },
  {
   "cell_type": "code",
   "execution_count": null,
   "outputs": [],
   "source": [
    "maritalCounts = dataset[\"previous\"].value_counts()\n",
    "maritalCounts"
   ],
   "metadata": {
    "collapsed": false
   }
  },
  {
   "cell_type": "code",
   "execution_count": null,
   "outputs": [],
   "source": [
    "maritalCountsPercentage = dataset[\"previous\"].value_counts(normalize=True) * 100\n",
    "maritalCountsPercentage"
   ],
   "metadata": {
    "collapsed": false
   }
  },
  {
   "cell_type": "code",
   "execution_count": null,
   "outputs": [],
   "source": [
    "plotBarChart(dataset, \"previous\")\n",
    "\n",
    "plotPieChart(maritalCounts.tolist(), maritalCounts.keys(), \"previous\")"
   ],
   "metadata": {
    "collapsed": false
   }
  },
  {
   "cell_type": "markdown",
   "source": [
    "### PoutCome"
   ],
   "metadata": {
    "collapsed": false
   }
  },
  {
   "cell_type": "code",
   "execution_count": null,
   "outputs": [],
   "source": [
    "maritalCounts = dataset[\"poutcome\"].value_counts()\n",
    "maritalCounts"
   ],
   "metadata": {
    "collapsed": false
   }
  },
  {
   "cell_type": "code",
   "execution_count": null,
   "outputs": [],
   "source": [
    "maritalCountsPercentage = dataset[\"poutcome\"].value_counts(normalize=True) * 100\n",
    "maritalCountsPercentage"
   ],
   "metadata": {
    "collapsed": false
   }
  },
  {
   "cell_type": "code",
   "execution_count": null,
   "outputs": [],
   "source": [
    "plotBarChart(dataset, \"poutcome\")\n",
    "\n",
    "plotPieChart(maritalCounts.tolist(), maritalCounts.keys(), \"poutcome\")"
   ],
   "metadata": {
    "collapsed": false
   }
  },
  {
   "cell_type": "markdown",
   "source": [
    "### Y - has the client subscribed a term deposit"
   ],
   "metadata": {
    "collapsed": false
   }
  },
  {
   "cell_type": "code",
   "execution_count": null,
   "outputs": [],
   "source": [
    "yCounts = dataset[\"y\"].value_counts()\n",
    "yCounts"
   ],
   "metadata": {
    "collapsed": false
   }
  },
  {
   "cell_type": "code",
   "execution_count": null,
   "outputs": [],
   "source": [
    "yCountsPercentage = dataset[\"y\"].value_counts(normalize=True) * 100\n",
    "yCountsPercentage"
   ],
   "metadata": {
    "collapsed": false
   }
  },
  {
   "cell_type": "code",
   "execution_count": null,
   "outputs": [],
   "source": [
    "plotBarChart(dataset, \"y\")\n",
    "\n",
    "plotPieChart(yCounts.tolist(), yCounts.keys(), \"y\")"
   ],
   "metadata": {
    "collapsed": false
   }
  },
  {
   "cell_type": "markdown",
   "source": [
    "## Feature Analysis with \"job\" as a target"
   ],
   "metadata": {
    "collapsed": false
   }
  },
  {
   "cell_type": "code",
   "execution_count": null,
   "outputs": [],
   "source": [
    "#divide data\n",
    "datasetTemp = dataset.copy()\n",
    "datasetCat = datasetTemp.select_dtypes(include='object').columns.drop([\"y\", \"job\"])"
   ],
   "metadata": {
    "collapsed": false
   }
  },
  {
   "cell_type": "code",
   "execution_count": null,
   "outputs": [],
   "source": [
    "\n",
    "# Analisar o target pelos elementos categoricos por segment plots e histplots\n",
    "\n",
    "plt.figure(figsize=(13, 15))\n",
    "for i, data in enumerate(datasetCat):\n",
    "    plt.subplot(4, 2, i + 1)\n",
    "    sea.countplot(x=data, hue='y', data=dataset, edgecolor=\"black\")\n",
    "    plt.title(\"Countplot of {}  by deposit\".format(data))\n",
    "plt.tight_layout()\n",
    "plt.show()\n",
    "\n",
    "plt.figure(figsize=[14, 5])\n",
    "sea.countplot(x='job', hue='y', edgecolor=\"black\", data=dataset)\n",
    "plt.title(\"Countplot of job by deposit\")\n",
    "plt.show()"
   ],
   "metadata": {
    "collapsed": false
   }
  },
  {
   "cell_type": "code",
   "execution_count": null,
   "outputs": [],
   "source": [
    "# Distribuicoes dos dados quatitativos\n",
    "plt.figure(figsize=(10, 10))\n",
    "\n",
    "for i, col in enumerate(dataset.select_dtypes(include=['int64']).columns):\n",
    "    ax = plt.subplot(3, 3, i + 1)\n",
    "    sea.histplot(x=dataset[col], ax=ax, kde=True)\n",
    "\n",
    "plt.suptitle('Distribuições das variaveis quantitativas')\n",
    "plt.tight_layout()\n",
    "plt.show()"
   ],
   "metadata": {
    "collapsed": false
   }
  },
  {
   "cell_type": "markdown",
   "source": [
    "### Features distribution by age range"
   ],
   "metadata": {
    "collapsed": false
   }
  },
  {
   "cell_type": "code",
   "execution_count": null,
   "outputs": [],
   "source": [
    "plotBarChartByAgeRange(dataset, \"duration\", 'Media de duracao da chamada','Distribuição da média da duração de uma chamada por faixa etária')"
   ],
   "metadata": {
    "collapsed": false
   }
  },
  {
   "cell_type": "code",
   "execution_count": null,
   "outputs": [],
   "source": [
    "plotBarChartByAgeRange(dataset, \"balance\",'Media de Saldo Anual em euros','Distribuição média do Saldo anual em euros por faixa etária')"
   ],
   "metadata": {
    "collapsed": false
   }
  },
  {
   "cell_type": "code",
   "execution_count": null,
   "outputs": [],
   "source": [
    "plotBarChartByAgeRange(dataset, \"day\",'Ultimo dia de contato do mês','Distribuição do ultimo dia de contato do mês por faixa etária')"
   ],
   "metadata": {
    "collapsed": false
   }
  },
  {
   "cell_type": "code",
   "execution_count": null,
   "outputs": [],
   "source": [
    "plotBarChartByAgeRange(dataset, \"campaign\",'Numero de contactos realizados durante esta campanha para um cliente','Distribuição numero de contactos realizados durante esta campanha para um cliente por faixa etária')"
   ],
   "metadata": {
    "collapsed": false
   }
  },
  {
   "cell_type": "code",
   "execution_count": null,
   "outputs": [],
   "source": [
    "plotBarChartByAgeRange(dataset, \"pdays\",'Numero medio de dias que passou após o cliente ser contactado na ultima campanha','Distribuição do numero medio de dias que passou após o cliente ser contactado na ultima campanha por faixa etária')"
   ],
   "metadata": {
    "collapsed": false
   }
  },
  {
   "cell_type": "code",
   "execution_count": null,
   "outputs": [],
   "source": [
    "plotBarChartByAgeRange(dataset, \"previous\",'Numero médio de contactos antes desta campanha para um cliente','Distribuição do numero médio de contactos antes desta campanha para um cliente')"
   ],
   "metadata": {
    "collapsed": false
   }
  },
  {
   "cell_type": "markdown",
   "source": [
    "### Scatter plots for only numeric data"
   ],
   "metadata": {
    "collapsed": false
   }
  },
  {
   "cell_type": "code",
   "execution_count": null,
   "outputs": [],
   "source": [
    "# SCATTER PLOTS PARA OS DADOS NUMERICOS EM FUNCAO DO TARGET\n",
    "cols = ['age','balance','day','duration','campaign','pdays','previous']\n",
    "colsY=cols\n",
    "colsY += ['y']\n",
    "datasetNum = dataset[colsY]\n",
    "\n",
    "plt.figure(figsize=(15,18))\n",
    "for i, datasetN in enumerate(cols):\n",
    "    print(i,datasetN)\n",
    "    plt.subplot(4,2,i+1)\n",
    "    sea.scatterplot(x=datasetN, y='y', data=datasetNum, color='yellow')\n",
    "    plt.title(\"scatterplot of {} by target(depositos)\".format(datasetN), size=20, color=\"white\")\n",
    "    plt.xlabel(\"{}\".format(datasetN),size=15)\n",
    "    plt.ylabel(\"Target(depositos)\",size=15)\n",
    "plt.tight_layout()"
   ],
   "metadata": {
    "collapsed": false
   }
  },
  {
   "cell_type": "markdown",
   "source": [
    "## Correlation Matrix"
   ],
   "metadata": {
    "collapsed": false
   }
  },
  {
   "cell_type": "code",
   "execution_count": null,
   "outputs": [],
   "source": [
    "dataset.corr()\n",
    "plt.subplots(figsize=(18, 13))\n",
    "hmap = sea.heatmap(data=dataset.corr(), annot=True, linewidths=0.5)\n",
    "plt.title(\"Correlation Matrix\", fontsize=15)\n",
    "plt.tight_layout()"
   ],
   "metadata": {
    "collapsed": false
   }
  },
  {
   "cell_type": "markdown",
   "source": [
    "### Outliers"
   ],
   "metadata": {
    "collapsed": false
   }
  },
  {
   "cell_type": "code",
   "execution_count": null,
   "outputs": [],
   "source": [
    "# BALANCE\n",
    "# VAMOS DAR DROP A TODAS AS LINHAS COM BALANCE NEGATIVO E VAMOS TAMBEM DAR DROP A LINHAS COM BALANCE MUITO ALTOS\n",
    "\n",
    "# DAR DROP DAS LINHAS\n",
    "dataset.drop(dataset[(dataset['balance']>40000)|(dataset['balance']<0)].index,inplace=True,axis=0)"
   ],
   "metadata": {
    "collapsed": false
   }
  },
  {
   "cell_type": "code",
   "execution_count": null,
   "outputs": [],
   "source": [
    "# DURATION\n",
    "# VAMOS DAR DROP A TODAS AS LINHAS EM QUE A DURACAO DESDE O ULTIMO CONTACTO FOI ACIMA DE 2500 DIAS\n",
    "dataset.drop(dataset[dataset['duration']>2500].index,inplace=True,axis=0)\n"
   ],
   "metadata": {
    "collapsed": false
   }
  },
  {
   "cell_type": "code",
   "execution_count": null,
   "outputs": [],
   "source": [
    "# CAMPAIGN\n",
    "# VAMOS DAR DROP A TODAS AS LINHAS EM QUE O NUMERO DE CONTACTOS FOI ACIMA DE 40\n",
    "dataset.drop(dataset[dataset['campaign']>40].index,axis=0,inplace=True)"
   ],
   "metadata": {
    "collapsed": false
   }
  },
  {
   "cell_type": "code",
   "execution_count": null,
   "outputs": [],
   "source": [
    "# PDAYS\n",
    "# VAMOS DAR DROP A TODA A INFORMACAO dos pdays\n",
    "dataset.drop(\"pdays\",inplace=True,axis=1)"
   ],
   "metadata": {
    "collapsed": false
   }
  },
  {
   "cell_type": "code",
   "execution_count": null,
   "outputs": [],
   "source": [
    "# PREVIOUS\n",
    "dataset.drop(dataset[dataset['previous']>30].index,axis=0,inplace=True)"
   ],
   "metadata": {
    "collapsed": false
   }
  },
  {
   "cell_type": "markdown",
   "source": [
    "## Pipeline"
   ],
   "metadata": {
    "collapsed": false
   }
  },
  {
   "cell_type": "markdown",
   "source": [
    "### to check !"
   ],
   "metadata": {
    "collapsed": false
   }
  },
  {
   "cell_type": "markdown",
   "source": [
    "####TIPOS DE Encodinm\n",
    "\n",
    "####Bianry Encoding PARA OS VALORES binarios 0 e 1\n",
    "\n",
    "\n",
    "####Ordinal Encoding para atributos ordinais que dao para enumerar\n",
    "\n",
    "#####OneHot Encoding para\n",
    "\n",
    "#####Dummy Encoding igual ao oneHot encoding mas N-1 gerando novas features\n"
   ],
   "metadata": {
    "collapsed": false
   }
  },
  {
   "cell_type": "code",
   "execution_count": 112,
   "outputs": [
    {
     "name": "stdout",
     "output_type": "stream",
     "text": [
      "0 age\n",
      "1 balance\n",
      "2 day\n",
      "3 duration\n",
      "4 campaign\n",
      "5 pdays\n",
      "6 previous\n"
     ]
    },
    {
     "data": {
      "text/plain": "<Figure size 1500x1800 with 7 Axes>",
      "image/png": "[encoded data removed]"
     },
     "metadata": {},
     "output_type": "display_data"
    }
   ],
   "source": [
    "# BOX PLOT PARA OS DADOS NUMERICOS\n",
    "plt.figure(figsize=(15,18))\n",
    "for i,dados_numericos in enumerate(cols):\n",
    "    print(i,dados_numericos)\n",
    "    plt.subplot(4,2,i+1)\n",
    "    sea.boxplot(x=dados_numericos,data=dados_num,color='green')\n",
    "    plt.title(\"Boxplot of {}\".format(dados_numericos),size=20,color=\"red\")\n",
    "    plt.xlabel(\"{}\".format(dados_numericos),size=15)\n",
    "plt.tight_layout()"
   ],
   "metadata": {
    "collapsed": false
   }
  },
  {
   "cell_type": "markdown",
   "source": [
    "# ------------------------------- TRATAR DOS OUTLIERS -----------------------"
   ],
   "metadata": {
    "collapsed": false
   }
  },
  {
   "cell_type": "code",
   "execution_count": 113,
   "outputs": [],
   "source": [
    "#Binary Encoding\n",
    "from sklearn.preprocessing import LabelBinarizer\n",
    "\n",
    "lista_bin = [\"default\",\"housing\",\"loan\", \"y\"]\n",
    "\n",
    "for i in lista_bin:\n",
    "    dataset[i] = LabelBinarizer().fit_transform(dataset[i].values)\n"
   ],
   "metadata": {
    "collapsed": false
   }
  },
  {
   "cell_type": "code",
   "execution_count": 114,
   "outputs": [],
   "source": [
    "#Ordinal Encoding\n",
    "from sklearn.preprocessing import LabelEncoder\n",
    "\n",
    "lista_ordinal=[\"month\",\"contact\",\"poutcome\"]\n",
    "for i in lista_ordinal:\n",
    "    dataset[i]=LabelEncoder().fit_transform(dataset[i].values)"
   ],
   "metadata": {
    "collapsed": false
   }
  },
  {
   "cell_type": "code",
   "execution_count": 115,
   "outputs": [],
   "source": [
    "# Dummy Encoding\n",
    "dataset = pd.get_dummies(dataset, columns= ['job','marital','education'])"
   ],
   "metadata": {
    "collapsed": false
   }
  },
  {
   "cell_type": "code",
   "execution_count": 116,
   "outputs": [],
   "source": [
    "# Reset Index e ver dataset de novo\n",
    "dataset = dataset.reset_index()\n",
    "dataset.drop('index', axis=1, inplace=True)\n",
    "dataset"
   ],
   "metadata": {
    "collapsed": false
   }
  },
  {
   "cell_type": "code",
   "execution_count": 117,
   "outputs": [],
   "source": [
    "#Separar as Fetures do target\n",
    "X = dataset.drop('y',axis=1)\n",
    "Y = dataset['y']"
   ],
   "metadata": {
    "collapsed": false
   }
  },
  {
   "cell_type": "code",
   "execution_count": 118,
   "outputs": [],
   "source": [
    "from sklearn.model_selection import StratifiedShuffleSplit\n",
    "Split =StratifiedShuffleSplit(n_splits=1,test_size=0.2,random_state=1)\n",
    "for train_i, test_i in Split.split(X,Y):\n",
    "    train_dados = dataset.loc[train_i]\n",
    "    testData = dataset.loc[test_i]"
   ],
   "metadata": {
    "collapsed": false
   }
  },
  {
   "cell_type": "code",
   "execution_count": 119,
   "outputs": [],
   "source": [
    "print(\"Ratio for train dataset\")\n",
    "print(trainData['y'].value_counts()/trainData.shape[0])\n",
    "print()\n",
    "print(\"ratio for test dataset\")\n",
    "print(testData['y'].value_counts()/testData.shape[0])"
   ],
   "metadata": {
    "collapsed": false
   }
  },
  {
   "cell_type": "code",
   "execution_count": null,
   "outputs": [],
   "source": [
    "x_train = trainData.drop(\"y\",axis=1)\n",
    "y_train = trainData['y']\n",
    "\n",
    "x_test = testData.drop(\"y\",axis=1)\n",
    "y_test = testData['y']"
   ],
   "metadata": {
    "collapsed": false
   }
  },
  {
   "cell_type": "code",
   "execution_count": null,
   "outputs": [],
   "source": [
    "#Scaling\n",
    "from sklearn.preprocessing import StandardScaler\n",
    "\n",
    "obj= StandardScaler()\n",
    "\n",
    "x_train = obj.fit_transform(x_train)\n",
    "x_test = obj.transform(x_test)"
   ],
   "metadata": {
    "collapsed": false
   }
  }
 ],
 "metadata": {
  "kernelspec": {
   "display_name": "Python 3 (ipykernel)",
   "language": "python",
   "name": "python3"
  },
  "language_info": {
   "codemirror_mode": {
    "name": "ipython",
    "version": 3
   },
   "file_extension": ".py",
   "mimetype": "text/x-python",
   "name": "python",
   "nbconvert_exporter": "python",
   "pygments_lexer": "ipython3",
   "version": "3.9.13"
  }
 },
 "nbformat": 4,
 "nbformat_minor": 5
}
