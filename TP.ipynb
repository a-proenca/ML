{
 "cells": [
  {
   "cell_type": "code",
   "execution_count": null,
   "id": "5ae4bcca",
   "metadata": {},
   "outputs": [],
   "source": [
    "import seaborn as sns\n",
    "import pandas as pd\n",
    "from matplotlib import pyplot as plt\n",
    "import numpy as np\n",
    "import string"
   ]
  },
  {
   "cell_type": "markdown",
   "source": [
    "## Used functions"
   ],
   "metadata": {
    "collapsed": false
   }
  },
  {
   "cell_type": "code",
   "execution_count": null,
   "outputs": [],
   "source": [
    "def plotFigureBoxPlot(columnName, title, dataframe):\n",
    "    sns.boxplot(x=dataframe[columnName])\n",
    "    plt.title(title)"
   ],
   "metadata": {
    "collapsed": false
   }
  },
  {
   "cell_type": "code",
   "execution_count": null,
   "outputs": [],
   "source": [
    "def features_analysis(columnName, dataframe):\n",
    "    item = dataframe[columnName];\n",
    "    print(\"1. Quantitive measurement on Central tendency:\");\n",
    "    print(\"mean:\\t\", item.mean());\n",
    "    print(\"mode:\\t\", item.mode());\n",
    "    print(\"median:\\t\", item.median());\n",
    "\n",
    "    print(\"\\n2. Quantitive measurement on Variability:\");\n",
    "    print(\"variance:\\t\", item.var());\n",
    "    print(\"std deviation:\\t\", item.std());\n",
    "    print(\"percentils (25, 50, 75):\\t\", item.quantile([0, 0.25, 0.5, 0.75, 1]));\n",
    "    print(\"skrewness:\\t\", item.skew());\n",
    "    print(\"kurtosis:\\t\", item.kurtosis());"
   ],
   "metadata": {
    "collapsed": false
   }
  },
  {
   "cell_type": "code",
   "execution_count": null,
   "outputs": [],
   "source": [
    "def plotBarChart(dataset, columnName):\n",
    "    sns.set(style='whitegrid', palette=\"bright\", font_scale=1.1, rc={\"figure.figsize\": [8, 5]})\n",
    "    sns.histplot(x=columnName, data=dataset, bins=np.arange(0, 100, 5))\n",
    "    plt.title(string.capwords(columnName) + \" \" + \"distribution\")\n"
   ],
   "metadata": {
    "collapsed": false
   }
  },
  {
   "cell_type": "code",
   "execution_count": null,
   "outputs": [],
   "source": [
    "def plotPieChart(data, labels, title, color=None):\n",
    "    fig1, ax1 = plt.subplots()\n",
    "    if (color == None):\n",
    "        plt.style.use('seaborn-pastel')\n",
    "    ax1.pie(data,\n",
    "            labels=labels,\n",
    "            autopct=\"%.1f%%\",\n",
    "            startangle=90,\n",
    "            colors=color,\n",
    "            pctdistance=0.85)\n",
    "\n",
    "    fig = plt.gcf()\n",
    "    ax1.axis('equal')\n",
    "    plt.tight_layout()\n",
    "    plt.title(title)"
   ],
   "metadata": {
    "collapsed": false
   }
  },
  {
   "cell_type": "markdown",
   "source": [
    "## Dataset reading"
   ],
   "metadata": {
    "collapsed": false
   }
  },
  {
   "cell_type": "code",
   "execution_count": null,
   "id": "a2046705",
   "metadata": {},
   "outputs": [],
   "source": [
    "dataset = pd.read_csv('bank-full.csv', sep=';')"
   ]
  },
  {
   "cell_type": "code",
   "execution_count": null,
   "id": "bd3ca9b5",
   "metadata": {},
   "outputs": [],
   "source": [
    "dataset.info()"
   ]
  },
  {
   "cell_type": "code",
   "execution_count": null,
   "id": "2599dbcf",
   "metadata": {},
   "outputs": [],
   "source": [
    "#Ver missing values\n",
    "dataset.count()"
   ]
  },
  {
   "cell_type": "code",
   "execution_count": null,
   "id": "452cc082",
   "metadata": {},
   "outputs": [],
   "source": [
    "#Identificar se há null values no dataset\n",
    "dataset.isnull().sum()"
   ]
  },
  {
   "cell_type": "code",
   "execution_count": null,
   "id": "4eec603e",
   "metadata": {},
   "outputs": [],
   "source": [
    "#Identificar se há Nan values no dataset\n",
    "dataset.isna().sum()"
   ]
  },
  {
   "cell_type": "code",
   "execution_count": null,
   "id": "7d256be0",
   "metadata": {},
   "outputs": [],
   "source": [
    "#Identificar possiveis valores duplicados no dataset\n",
    "print(dataset.duplicated().sum())"
   ]
  },
  {
   "cell_type": "code",
   "execution_count": null,
   "id": "a892a0f2",
   "metadata": {},
   "outputs": [],
   "source": [
    "dataset.describe()"
   ]
  },
  {
   "cell_type": "code",
   "execution_count": null,
   "id": "501bc14d",
   "metadata": {},
   "outputs": [],
   "source": [
    "dataset.y.value_counts()"
   ]
  },
  {
   "cell_type": "markdown",
   "source": [
    "## Features Analysis"
   ],
   "metadata": {
    "collapsed": false
   }
  },
  {
   "cell_type": "markdown",
   "source": [
    "### Age"
   ],
   "metadata": {
    "collapsed": false
   }
  },
  {
   "cell_type": "code",
   "execution_count": null,
   "outputs": [],
   "source": [
    "features_analysis(\"age\", dataset)"
   ],
   "metadata": {
    "collapsed": false
   }
  },
  {
   "cell_type": "code",
   "execution_count": null,
   "outputs": [],
   "source": [
    "plotBarChart(dataset, \"age\")"
   ],
   "metadata": {
    "collapsed": false
   }
  },
  {
   "cell_type": "code",
   "execution_count": null,
   "outputs": [],
   "source": [
    "sns.boxplot(x=dataset[\"age\"])\n",
    "plt.title(\"Age quantiles\")"
   ],
   "metadata": {
    "collapsed": false
   }
  },
  {
   "cell_type": "markdown",
   "source": [
    "### Job"
   ],
   "metadata": {
    "collapsed": false
   }
  },
  {
   "cell_type": "code",
   "execution_count": null,
   "outputs": [],
   "source": [
    "features_analysis(\"job\", dataset)"
   ],
   "metadata": {
    "collapsed": false
   }
  },
  {
   "cell_type": "code",
   "execution_count": null,
   "outputs": [],
   "source": [
    "jobCounts = dataset[\"job\"].value_counts()\n",
    "jobCounts"
   ],
   "metadata": {
    "collapsed": false
   }
  },
  {
   "cell_type": "code",
   "execution_count": null,
   "outputs": [],
   "source": [
    "jobCountsPercentage = dataset[\"job\"].value_counts(normalize=True) * 100\n",
    "jobCountsPercentage"
   ],
   "metadata": {
    "collapsed": false
   }
  },
  {
   "cell_type": "code",
   "execution_count": null,
   "outputs": [],
   "source": [
    "plotBarChart(dataset, \"job\")\n",
    "\n",
    "plotPieChart(jobCounts.tolist(), jobCounts.keys(), \"job\")"
   ],
   "metadata": {
    "collapsed": false
   }
  },
  {
   "cell_type": "markdown",
   "source": [
    "### Marital status"
   ],
   "metadata": {
    "collapsed": false
   }
  },
  {
   "cell_type": "code",
   "execution_count": null,
   "outputs": [],
   "source": [
    "features_analysis(\"marital\", dataset)"
   ],
   "metadata": {
    "collapsed": false
   }
  },
  {
   "cell_type": "code",
   "execution_count": null,
   "outputs": [],
   "source": [
    "maritalCounts = dataset[\"marital\"].value_counts()\n",
    "maritalCounts"
   ],
   "metadata": {
    "collapsed": false
   }
  },
  {
   "cell_type": "code",
   "execution_count": null,
   "outputs": [],
   "source": [
    "maritalCountsPercentage = dataset[\"marital\"].value_counts(normalize=True) * 100\n",
    "maritalCountsPercentage"
   ],
   "metadata": {
    "collapsed": false
   }
  },
  {
   "cell_type": "code",
   "execution_count": null,
   "id": "1300877a",
   "metadata": {},
   "outputs": [],
   "source": [
    "plotBarChart(dataset, \"marital\")\n",
    "\n",
    "plotPieChart(maritalCounts.tolist(), maritalCounts.keys(), \"marital\")"
   ]
  },
  {
   "cell_type": "markdown",
   "source": [
    "### Education"
   ],
   "metadata": {
    "collapsed": false
   }
  },
  {
   "cell_type": "code",
   "execution_count": null,
   "outputs": [],
   "source": [
    "educationCounts = dataset[\"education\"].value_counts()\n",
    "educationCounts"
   ],
   "metadata": {
    "collapsed": false
   }
  },
  {
   "cell_type": "code",
   "execution_count": null,
   "outputs": [],
   "source": [
    "educationCountsPercentage = dataset[\"education\"].value_counts(normalize=True) * 100\n",
    "educationCountsPercentage"
   ],
   "metadata": {
    "collapsed": false
   }
  },
  {
   "cell_type": "code",
   "execution_count": null,
   "outputs": [],
   "source": [
    "plotBarChart(dataset, \"education\")\n",
    "\n",
    "plotPieChart(educationCounts.tolist(), educationCounts.keys(), \"education\")"
   ],
   "metadata": {
    "collapsed": false
   }
  },
  {
   "cell_type": "markdown",
   "source": [
    "### Default"
   ],
   "metadata": {
    "collapsed": false
   }
  },
  {
   "cell_type": "code",
   "execution_count": null,
   "outputs": [],
   "source": [
    "defaultCounts = dataset[\"default\"].value_counts()\n",
    "defaultCounts"
   ],
   "metadata": {
    "collapsed": false
   }
  },
  {
   "cell_type": "code",
   "execution_count": null,
   "outputs": [],
   "source": [
    "defaultCountsPercentage = dataset[\"default\"].value_counts(normalize=True) * 100\n",
    "defaultCountsPercentage"
   ],
   "metadata": {
    "collapsed": false
   }
  },
  {
   "cell_type": "code",
   "execution_count": null,
   "outputs": [],
   "source": [
    "plotBarChart(dataset, \"default\")\n",
    "\n",
    "plotPieChart(defaultCounts.tolist(), defaultCounts.keys(), \"default\")"
   ],
   "metadata": {
    "collapsed": false
   }
  },
  {
   "cell_type": "markdown",
   "source": [
    "### Housing"
   ],
   "metadata": {
    "collapsed": false
   }
  },
  {
   "cell_type": "code",
   "execution_count": null,
   "outputs": [],
   "source": [
    "defaultCounts = dataset[\"default\"].value_counts()\n",
    "defaultCounts"
   ],
   "metadata": {
    "collapsed": false
   }
  },
  {
   "cell_type": "code",
   "execution_count": null,
   "outputs": [],
   "source": [
    "defaultCountsPercentage = dataset[\"default\"].value_counts(normalize=True) * 100\n",
    "defaultCountsPercentage"
   ],
   "metadata": {
    "collapsed": false
   }
  },
  {
   "cell_type": "code",
   "execution_count": null,
   "outputs": [],
   "source": [
    "plotBarChart(dataset, \"default\")\n",
    "\n",
    "plotPieChart(defaultCounts.tolist(), defaultCounts.keys(), \"default\")"
   ],
   "metadata": {
    "collapsed": false
   }
  },
  {
   "cell_type": "markdown",
   "source": [
    "### Loan"
   ],
   "metadata": {
    "collapsed": false
   }
  },
  {
   "cell_type": "code",
   "execution_count": null,
   "outputs": [],
   "source": [
    "loanCounts = dataset[\"loan\"].value_counts()\n",
    "loanCounts"
   ],
   "metadata": {
    "collapsed": false
   }
  },
  {
   "cell_type": "code",
   "execution_count": null,
   "outputs": [],
   "source": [
    "loanCountsPercentage = dataset[\"loan\"].value_counts(normalize=True) * 100\n",
    "loanCountsPercentage"
   ],
   "metadata": {
    "collapsed": false
   }
  },
  {
   "cell_type": "code",
   "execution_count": null,
   "outputs": [],
   "source": [
    "plotBarChart(dataset, \"loan\")\n",
    "\n",
    "plotPieChart(loanCounts.tolist(), loanCounts.keys(), \"loan\")"
   ],
   "metadata": {
    "collapsed": false
   }
  },
  {
   "cell_type": "markdown",
   "source": [
    "### Contact"
   ],
   "metadata": {
    "collapsed": false
   }
  },
  {
   "cell_type": "code",
   "execution_count": null,
   "outputs": [],
   "source": [
    "contactCounts = dataset[\"contact\"].value_counts()\n",
    "contactCounts"
   ],
   "metadata": {
    "collapsed": false
   }
  },
  {
   "cell_type": "code",
   "execution_count": null,
   "outputs": [],
   "source": [
    "contactCountsPercentage = dataset[\"contact\"].value_counts(normalize=True) * 100\n",
    "contactCountsPercentage"
   ],
   "metadata": {
    "collapsed": false
   }
  },
  {
   "cell_type": "code",
   "execution_count": null,
   "outputs": [],
   "source": [
    "plotBarChart(dataset, \"contact\")\n",
    "\n",
    "plotPieChart(contactCounts.tolist(), contactCounts.keys(), \"contact\")"
   ],
   "metadata": {
    "collapsed": false
   }
  },
  {
   "cell_type": "markdown",
   "source": [
    "### Month"
   ],
   "metadata": {
    "collapsed": false
   }
  },
  {
   "cell_type": "code",
   "execution_count": null,
   "outputs": [],
   "source": [
    "monthCounts = dataset[\"month\"].value_counts()\n",
    "monthCounts"
   ],
   "metadata": {
    "collapsed": false
   }
  },
  {
   "cell_type": "code",
   "execution_count": null,
   "outputs": [],
   "source": [
    "monthCountsPercentage = dataset[\"month\"].value_counts(normalize=True) * 100\n",
    "monthCountsPercentage"
   ],
   "metadata": {
    "collapsed": false
   }
  },
  {
   "cell_type": "code",
   "execution_count": null,
   "outputs": [],
   "source": [
    "plotBarChart(dataset, \"month\")\n",
    "\n",
    "plotPieChart(monthCounts.tolist(), monthCounts.keys(), \"month\")"
   ],
   "metadata": {
    "collapsed": false
   }
  },
  {
   "cell_type": "markdown",
   "source": [
    "### Day of week"
   ],
   "metadata": {
    "collapsed": false
   }
  },
  {
   "cell_type": "code",
   "execution_count": null,
   "outputs": [],
   "source": [
    "dayOfWeekCounts = dataset[\"dayOfWeek\"].value_counts()\n",
    "dayOfWeekCounts"
   ],
   "metadata": {
    "collapsed": false
   }
  },
  {
   "cell_type": "code",
   "execution_count": null,
   "outputs": [],
   "source": [
    "dayOfWeekCountsPercentage = dataset[\"dayOfWeek\"].value_counts(normalize=True) * 100\n",
    "dayOfWeekCountsPercentage"
   ],
   "metadata": {
    "collapsed": false
   }
  },
  {
   "cell_type": "code",
   "execution_count": null,
   "outputs": [],
   "source": [
    "plotBarChart(dataset, \"dayOfWeek\")\n",
    "\n",
    "plotPieChart(dayOfWeekCounts.tolist(), dayOfWeekCounts.keys(), \"dayOfWeek\")"
   ],
   "metadata": {
    "collapsed": false
   }
  },
  {
   "cell_type": "markdown",
   "source": [
    "### Last contact duration"
   ],
   "metadata": {
    "collapsed": false
   }
  },
  {
   "cell_type": "code",
   "execution_count": null,
   "outputs": [],
   "source": [
    "durationCounts = dataset[\"duration\"].value_counts()\n",
    "durationCounts"
   ],
   "metadata": {
    "collapsed": false,
    "pycharm": {
     "is_executing": true
    }
   }
  },
  {
   "cell_type": "code",
   "execution_count": null,
   "outputs": [],
   "source": [
    "durationCountsPercentage = dataset[\"duration\"].value_counts(normalize=True) * 100\n",
    "durationCountsPercentage"
   ],
   "metadata": {
    "collapsed": false
   }
  },
  {
   "cell_type": "code",
   "execution_count": null,
   "outputs": [],
   "source": [
    "plotBarChart(dataset, \"duration\")\n",
    "\n",
    "plotPieChart(durationCounts.tolist(), durationCounts.keys(), \"duration\")"
   ],
   "metadata": {
    "collapsed": false
   }
  },
  {
   "cell_type": "markdown",
   "source": [
    "### Y - has the client subscribed a term deposit"
   ],
   "metadata": {
    "collapsed": false
   }
  },
  {
   "cell_type": "code",
   "execution_count": null,
   "outputs": [],
   "source": [
    "yCounts = dataset[\"y\"].value_counts()\n",
    "yCounts"
   ],
   "metadata": {
    "collapsed": false
   }
  },
  {
   "cell_type": "code",
   "execution_count": null,
   "outputs": [],
   "source": [
    "yCountsPercentage = dataset[\"y\"].value_counts(normalize=True) * 100\n",
    "yCountsPercentage"
   ],
   "metadata": {
    "collapsed": false
   }
  },
  {
   "cell_type": "code",
   "execution_count": null,
   "outputs": [],
   "source": [
    "plotBarChart(dataset, \"y\")\n",
    "\n",
    "plotPieChart(yCounts.tolist(), yCounts.keys(), \"y\")"
   ],
   "metadata": {
    "collapsed": false
   }
  },
  {
   "cell_type": "markdown",
   "source": [
    "## Pipeline"
   ],
   "metadata": {
    "collapsed": false
   }
  },
  {
   "cell_type": "markdown",
   "source": [
    "### Reducing dataset"
   ],
   "metadata": {
    "collapsed": false
   }
  },
  {
   "cell_type": "markdown",
   "source": [
    "### Correlation analysis"
   ],
   "metadata": {
    "collapsed": false
   }
  }
 ],
 "metadata": {
  "kernelspec": {
   "display_name": "Python 3 (ipykernel)",
   "language": "python",
   "name": "python3"
  },
  "language_info": {
   "codemirror_mode": {
    "name": "ipython",
    "version": 3
   },
   "file_extension": ".py",
   "mimetype": "text/x-python",
   "name": "python",
   "nbconvert_exporter": "python",
   "pygments_lexer": "ipython3",
   "version": "3.9.13"
  }
 },
 "nbformat": 4,
 "nbformat_minor": 5
}
