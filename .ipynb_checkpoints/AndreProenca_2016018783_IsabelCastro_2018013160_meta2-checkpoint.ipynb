{
 "cells": [
  {
   "cell_type": "markdown",
   "metadata": {},
   "source": [
    "## Instituto Politécnico de Coimbra\n",
    "## Instituto Superior de Engenharia de Coimbra\n",
    "## Mestrado em Engenharia Informática - Machine Learning\n",
    "## Elaborado por:\n",
    "\n",
    "# André Proença 2016018783\n",
    "\n",
    "# Isabel Castro 2018013160\n",
    "\n",
    "## DATA SET ORIGINAL\n",
    "## [https://archive.ics.uci.edu/ml/datasets/Bank+Marketing](https://archive.ics.uci.edu/ml/datasets/Bank+Marketing)"
   ]
  },
  {
   "cell_type": "code",
   "execution_count": 35,
   "metadata": {},
   "outputs": [],
   "source": [
    "import seaborn as sea\n",
    "import pandas as pd\n",
    "from matplotlib import pyplot as plt\n",
    "import numpy as np\n",
    "import string\n",
    "from imblearn.under_sampling import RandomUnderSampler\n",
    "from sklearn.preprocessing import LabelEncoder\n",
    "from sklearn.pipeline import Pipeline\n",
    "from sklearn.compose import ColumnTransformer\n",
    "from sklearn.preprocessing import OrdinalEncoder\n",
    "from sklearn.preprocessing import OneHotEncoder\n",
    "from sklearn.preprocessing import LabelBinarizer\n",
    "from sklearn.model_selection import train_test_split\n",
    "from sklearn.preprocessing import StandardScaler\n",
    "import random"
   ]
  },
  {
   "cell_type": "code",
   "execution_count": 36,
   "metadata": {},
   "outputs": [],
   "source": [
    "## Used functions\n",
    "def randcolor(number):\n",
    "    lista = []\n",
    "    for i in range(number):\n",
    "        color = \"%06x\" % random.randint(0, 0xFFFFFF)\n",
    "        lista.append(color)\n",
    "    return lista\n",
    "\n",
    "\n",
    "def plotFigureBoxPlot(columnName, dataset):\n",
    "    plt.figure(figsize=(6, 9))\n",
    "    sea.boxplot(x=columnName, data=dataset, color='green')\n",
    "    plt.title(\"Boxplot of {}\".format(columnName), size=20, color=\"red\")\n",
    "    plt.xlabel(\"{}\".format(columnName), size=15)\n",
    "\n",
    "\n",
    "def numericAnalysis(columnName, dataframe):\n",
    "    item = dataframe[columnName]\n",
    "\n",
    "    print(\"Mean:\\t\", item.mean())\n",
    "    print(\"Mode:\\t\", item.mode())\n",
    "    print(\"Median:\\t\", item.median())\n",
    "    print(\"Variance:\\t\", item.var())\n",
    "    print(\"Std deviation:\\t\", item.std())\n",
    "    print(\"Percentils (25, 50, 75):\\t\", item.quantile([0, 0.25, 0.5, 0.75, 1]));\n",
    "\n",
    "\n",
    "def plotBarChart(dataset, columnName):\n",
    "    sea.set(style='whitegrid', palette=\"bright\", font_scale=1.1, rc={\"figure.figsize\": [15, 10]})\n",
    "    if (dataset[columnName].dtype != 'object'):\n",
    "        sea.histplot(x=columnName, data=dataset, bins=np.arange(0, 100, 5), kde=True)\n",
    "    else:\n",
    "        sea.histplot(x=columnName, data=dataset, bins=np.arange(0, 100, 5))\n",
    "    plt.title(string.capwords(columnName) + \" \" + \"distribution\")\n",
    "\n",
    "\n",
    "def plotPieChart(data, labels, title, color=None):\n",
    "    fig1, ax1 = plt.subplots()\n",
    "    if (color == None):\n",
    "        plt.style.use('seaborn-pastel')\n",
    "    ax1.pie(data,\n",
    "            labels=labels,\n",
    "            autopct=\"%.1f%%\",\n",
    "            startangle=90,\n",
    "            colors=color,\n",
    "            pctdistance=0.85)\n",
    "\n",
    "    fig = plt.gcf()\n",
    "    ax1.axis('equal')\n",
    "    plt.tight_layout()\n",
    "    plt.title(title)\n",
    "\n",
    "\n",
    "def plotBarChartByAgeRange(dataset, columnName, label, title):\n",
    "    ageRange = list(range(15, 95, 5))\n",
    "\n",
    "    plt.figure(figsize=(18, 25))\n",
    "    plt.subplot(3, 2, 1)\n",
    "    dataset.groupby(pd.cut(dataset.age, ageRange))[columnName].mean().plot.bar()\n",
    "    plt.ylabel(label)\n",
    "    plt.title(title)"
   ]
  },
  {
   "cell_type": "code",
   "execution_count": 37,
   "metadata": {
    "collapsed": true
   },
   "outputs": [
    {
     "name": "stdout",
     "output_type": "stream",
     "text": [
      "<class 'pandas.core.frame.DataFrame'>\n",
      "RangeIndex: 45211 entries, 0 to 45210\n",
      "Data columns (total 17 columns):\n",
      " #   Column     Non-Null Count  Dtype \n",
      "---  ------     --------------  ----- \n",
      " 0   age        45211 non-null  int64 \n",
      " 1   job        45211 non-null  object\n",
      " 2   marital    45211 non-null  object\n",
      " 3   education  45211 non-null  object\n",
      " 4   default    45211 non-null  object\n",
      " 5   balance    45211 non-null  int64 \n",
      " 6   housing    45211 non-null  object\n",
      " 7   loan       45211 non-null  object\n",
      " 8   contact    45211 non-null  object\n",
      " 9   day        45211 non-null  int64 \n",
      " 10  month      45211 non-null  object\n",
      " 11  duration   45211 non-null  int64 \n",
      " 12  campaign   45211 non-null  int64 \n",
      " 13  pdays      45211 non-null  int64 \n",
      " 14  previous   45211 non-null  int64 \n",
      " 15  poutcome   45211 non-null  object\n",
      " 16  y          45211 non-null  object\n",
      "dtypes: int64(7), object(10)\n",
      "memory usage: 5.9+ MB\n"
     ]
    }
   ],
   "source": [
    "## Dataset reading\n",
    "fullDataset = pd.read_csv('bank-full.csv', sep=';')\n",
    "fullDataset.info()\n",
    "#check missing values\n",
    "fullDataset.count()\n",
    "#check if there are null values\n",
    "fullDataset.isnull().sum()\n",
    "#check if there are Nan values\n",
    "fullDataset.isna().sum()\n",
    "#check if there are duplicated values\n",
    "fullDataset.duplicated().sum()\n",
    "fullDataset.describe()\n",
    "X = fullDataset.drop('y',axis=1)\n",
    "Y = fullDataset['y']\n",
    "\n",
    "rus = RandomUnderSampler(sampling_strategy='majority', random_state=1)\n",
    "xData, yData = rus.fit_resample(X, Y)\n",
    "\n",
    "yData = yData.reset_index()\n",
    "yData.drop('index', axis=1, inplace=True)\n",
    "\n",
    "dataset = pd.concat([xData, yData], axis=1)"
   ]
  },
  {
   "cell_type": "code",
   "execution_count": 38,
   "metadata": {},
   "outputs": [],
   "source": [
    "\n",
    "# Divide dataset between features e target\n",
    "datasetTarget = dataset['y']\n",
    "dataset = dataset.drop('y',axis=1)\n",
    "\n",
    "# Test and train must have similar loans value\n",
    "\n",
    "dataset['binary'] = dataset['loan'].astype(str) + dataset['default'].astype(str)\n",
    "\n",
    "x_train_set, x_test_set , y_train, y_test  = train_test_split(dataset,datasetTarget,test_size=0.2, random_state=0, stratify=dataset[['binary']])\n",
    "\n",
    "# Remove binary column because it was only an aux for the split\n",
    "x_train_set = x_train_set.drop(\"binary\",axis=1)\n",
    "x_test_set = x_test_set.drop(\"binary\",axis=1)"
   ]
  },
  {
   "cell_type": "code",
   "execution_count": 39,
   "metadata": {},
   "outputs": [],
   "source": [
    "\n",
    "num_cat = ['age','balance','day','campaign','previous','duration']\n",
    "ordinal_cat = ['month','contact','poutcome']\n",
    "one_hot_cat = ['job','marital','education','default','housing','loan']\n",
    "\n",
    "num_pipe = Pipeline([('scaler',StandardScaler())])\n",
    "\n",
    "categorical_transformer = Pipeline([('onehot',OneHotEncoder(handle_unknown='ignore', sparse=False, drop='if_binary'))])\n",
    "\n",
    "cat_pipe_ordinal = Pipeline([('ordinal_encoder',OrdinalEncoder())])\n",
    "\n",
    "preprocessor = ColumnTransformer([('num_enc',num_pipe,num_cat),('cat_enc',categorical_transformer,one_hot_cat),('ord_enc',cat_pipe_ordinal,ordinal_cat)])\n",
    "\n",
    "x_train_set = preprocessor.fit_transform(x_train_set)\n",
    "x_test_set = preprocessor.fit_transform(x_test_set)"
   ]
  },
  {
   "cell_type": "markdown",
   "metadata": {},
   "source": [
    "## Unsupervised Learning"
   ]
  },
  {
   "cell_type": "markdown",
   "metadata": {},
   "source": [
    "### KMeans"
   ]
  },
  {
   "cell_type": "code",
   "execution_count": 40,
   "metadata": {},
   "outputs": [],
   "source": [
    "from sklearn.metrics import silhouette_score\n",
    "from sklearn.cluster import KMeans\n",
    "\n",
    "scaler = StandardScaler()\n",
    "xTrainScaled = scaler.fit_transform(x_train_set)\n",
    "xTestScaled = scaler.fit_transform(x_test_set)\n"
   ]
  },
  {
   "cell_type": "code",
   "execution_count": 41,
   "metadata": {},
   "outputs": [
    {
     "data": {
      "text/plain": [
       "0.11190322511159508"
      ]
     },
     "execution_count": 41,
     "metadata": {},
     "output_type": "execute_result"
    },
    {
     "data": {
      "image/png": "[encoded data removed]",
      "text/plain": [
       "<Figure size 432x288 with 1 Axes>"
      ]
     },
     "metadata": {},
     "output_type": "display_data"
    }
   ],
   "source": [
    "numOfClusters = 10\n",
    "sse = [0] * numOfClusters\n",
    "for i in range(0, numOfClusters):\n",
    "    kMeans = KMeans(n_clusters=i + 1, random_state=0).fit(xTrainScaled)\n",
    "    sse[i] = kMeans.inertia_\n",
    "\n",
    "sseNp = np.array(sse)\n",
    "sseNp.sum(), sseNp\n",
    "plt.plot(range(1, numOfClusters + 1), sseNp)\n",
    "kMeans = KMeans(n_clusters=5, random_state=0)\n",
    "kMeans.fit(xTrainScaled)\n",
    "yKmeans = kMeans.predict(xTestScaled)\n",
    "silhouette_score(xTestScaled, yKmeans)\n",
    "\n"
   ]
  },
  {
   "cell_type": "markdown",
   "metadata": {},
   "source": [
    "##Hierarchical clustering"
   ]
  },
  {
   "cell_type": "code",
   "execution_count": 42,
   "metadata": {},
   "outputs": [],
   "source": [
    "from sklearn.cluster import AgglomerativeClustering\n",
    "\n",
    "aggClustering = AgglomerativeClustering(distance_threshold=0, n_clusters=None).fit(xTrainScaled)"
   ]
  },
  {
   "cell_type": "code",
   "execution_count": 44,
   "metadata": {},
   "outputs": [
    {
     "ename": "IndentationError",
     "evalue": "expected an indented block (3217784273.py, line 24)",
     "output_type": "error",
     "traceback": [
      "\u001b[1;36m  Input \u001b[1;32mIn [44]\u001b[1;36m\u001b[0m\n\u001b[1;33m    svm_pipeline = Pipeline([\u001b[0m\n\u001b[1;37m    ^\u001b[0m\n\u001b[1;31mIndentationError\u001b[0m\u001b[1;31m:\u001b[0m expected an indented block\n"
     ]
    }
   ],
   "source": [
    "from sklearn.preprocessing import StandardScaler\n",
    "from sklearn.cluster import KMeans\n",
    "from sklearn.model_selection import GridSearchCV\n",
    "from sklearn.metrics import ConfusionMatrixDisplay\n",
    "from sklearn.compose import ColumnTransformer\n",
    "from sklearn.neighbors import KNeighborsClassifier\n",
    "from sklearn.svm import LinearSVC\n",
    "\n",
    "\n",
    "### Functions used\n",
    "def measurements(yTest, Y_pred):\n",
    "    print(f\"Accuracy: {metrics.accuracy_score(yTest, Y_pred).round(2)}\")\n",
    "    print(f\"Precision: {metrics.precision_score(yTest, Y_pred).round(2)}\")\n",
    "    print(f\"Recall: {metrics.recall_score(yTest, Y_pred).round(2)}\")\n",
    "    print(f\"f1: {metrics.f1_score(yTest, Y_pred).round(2)}\")\n",
    "\n",
    "\n",
    "def plot_roc_curve(fpr, tpr):\n",
    "\n",
    "\n",
    "## Supervised Learning\n",
    "### Logistic regression\n",
    "### Support Vector Machine\n",
    "svm_pipeline = Pipeline([\n",
    "    (\"scaler\", StandardScaler()),\n",
    "    (\"svm\", LinearSVC())\n",
    "]\n",
    ")\n",
    "\n",
    "parameters = dict(\n",
    "    svm__max_iter=np.arange(1000, 6000, 1000),\n",
    "    svm__random_state=[0]\n",
    ")\n",
    "svm_pipeline.fit = (X_train, Y_train)\n",
    "Y_pred = knn_clf.predict(X_test)\n",
    "measurements(Y_test, Y_pred)\n",
    "grid = GridSearchCV(smvPipeline, param_grid=parameters, cv=5, scoring=\"accuracy\")\n",
    "grid.fit(xTrain, np.ravel(yTrain, order=\"c\"))\n",
    "grid.best_params_  #{'svm__max_iter': 1000, 'svm__random_state': 0}\n",
    "y_predict = grid.predict(xTest)\n",
    "printMetrics(yTest, y_predict)\n",
    "metrics.RocCurveDisplay.from_estimator(grid.best_estimator_, xTest, yTest)\n",
    "ConfusionMatrixDisplay.from_estimator(grid, xTest, yTest)\n",
    "\n",
    "### KNN\n",
    "knn_clf = KNeighborsClassifier(n_neighbors=3)\n",
    "knn_clf.fit(X_train, Y_train)\n",
    "Y_pred = knn_clf.predict(X_test)\n",
    "###### Calculate the accuracy, the precision, the recall and F1-score\n",
    "measurements(Y_test, Y_pred)\n",
    "###### Build a pipeline that implements an imputer (median) followed by a scaler\n",
    "knn_pipeline = Pipeline([\n",
    "    (\"scale\", StandardScaler()),\n",
    "    (\"knn\", KNeighborsClassifier())\n",
    "]\n",
    ")\n",
    "\n",
    "X_train = knn_pipeline.fit_transform(X_train)\n",
    "X_test = knn_pipeline.fit_transform(X_test)\n",
    "\n",
    "parameters = dict(knn__n_neighbors=np.arange(1, 11, 1), )\n",
    "grid = GridSearchCV(knn_pipeline, param_grid=parameters, cv=5, scoring=\"accuracy\")\n",
    "grid.fit(xTrain, np.ravel(yTrain, order=\"c\"))\n",
    "grid.best_params_, grid.best_score_  #({'knn__n_neighbors': 9}, 0.828875)\n",
    "Y_pred = grid.predict(X_test)\n",
    "measurements(yTest, Y_pred)"
   ]
  },
  {
   "cell_type": "markdown",
   "metadata": {},
   "source": []
  }
 ],
 "metadata": {
  "kernelspec": {
   "display_name": "Python 3 (ipykernel)",
   "language": "python",
   "name": "python3"
  },
  "language_info": {
   "codemirror_mode": {
    "name": "ipython",
    "version": 3
   },
   "file_extension": ".py",
   "mimetype": "text/x-python",
   "name": "python",
   "nbconvert_exporter": "python",
   "pygments_lexer": "ipython3",
   "version": "3.9.13"
  }
 },
 "nbformat": 4,
 "nbformat_minor": 1
}
