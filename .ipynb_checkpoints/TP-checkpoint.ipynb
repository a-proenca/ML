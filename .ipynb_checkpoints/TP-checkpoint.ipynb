{
 "cells": [
  {
   "cell_type": "markdown",
   "id": "47263611",
   "metadata": {},
   "source": [
    "## Instituto Politécnico de Coimbra\n",
    "## Instituto Superior de Engenharia de Coimbra\n",
    "## Mestrado em Engenharia Informática - Machine Learning\n",
    "## Elaborado por:\n",
    "\n",
    "# André Proença 2016018783\n",
    "\n",
    "# Isabel Castro ....\n",
    "\n",
    "## DATA SET ORIGINAL\n",
    "## [https://archive.ics.uci.edu/ml/datasets/Bank+Marketing](https://archive.ics.uci.edu/ml/datasets/Bank+Marketing)"
   ]
  },
  {
   "cell_type": "code",
   "execution_count": 20,
   "id": "5ae4bcca",
   "metadata": {},
   "outputs": [],
   "source": [
    "import seaborn as sea\n",
    "import pandas as pd\n",
    "from matplotlib import pyplot as plt\n",
    "import numpy as np\n",
    "import string\n",
    "from imblearn.under_sampling import RandomUnderSampler\n",
    "from sklearn.utils import check_array\n",
    "from sklearn.preprocessing import LabelEncoder\n",
    "from scipy import sparse\n",
    "from sklearn.pipeline import Pipeline\n",
    "from sklearn.pipeline import FeatureUnion\n",
    "from sklearn.base import BaseEstimator, TransformerMixin\n",
    "from sklearn.preprocessing import LabelBinarizer\n",
    "from sklearn.model_selection import train_test_split\n",
    "from sklearn.preprocessing import StandardScaler"
   ]
  },
  {
   "cell_type": "markdown",
   "id": "4c5e08ac",
   "metadata": {},
   "source": [
    "# DATASET READING"
   ]
  },
  {
   "cell_type": "code",
   "execution_count": 21,
   "id": "24794560",
   "metadata": {},
   "outputs": [],
   "source": [
    "def plotFigureBoxPlot(columnName, title, dataframe):\n",
    "    sea.boxplot(x=dataframe[columnName])\n",
    "    plt.title(title)"
   ]
  },
  {
   "cell_type": "code",
   "execution_count": 22,
   "id": "2c2c72ee",
   "metadata": {},
   "outputs": [],
   "source": [
    "def numericAnalysis(columnName, dataframe):\n",
    "    item = dataframe[columnName]\n",
    "\n",
    "    print(\"Mean:\\t\", item.mean())\n",
    "    print(\"Mode:\\t\", item.mode())\n",
    "    print(\"Median:\\t\", item.median())\n",
    "    print(\"Variance:\\t\", item.var())\n",
    "    print(\"Std deviation:\\t\", item.std())\n",
    "    print(\"Percentils (25, 50, 75):\\t\", item.quantile([0, 0.25, 0.5, 0.75, 1]));"
   ]
  },
  {
   "cell_type": "code",
   "execution_count": 23,
   "id": "559524df",
   "metadata": {},
   "outputs": [],
   "source": [
    "def plotBarChart(dataset, columnName):\n",
    "    sea.set(style='whitegrid', palette=\"bright\", font_scale=1.1, rc={\"figure.figsize\": [15, 10]})\n",
    "    sea.histplot(x=columnName, data=dataset, bins=np.arange(0, 100, 5))\n",
    "    plt.title(string.capwords(columnName) + \" \" + \"distribution\")"
   ]
  },
  {
   "cell_type": "code",
   "execution_count": 24,
   "id": "a8f695d5",
   "metadata": {},
   "outputs": [],
   "source": [
    "def plotPieChart(data, labels, title, color=None):\n",
    "    fig1, ax1 = plt.subplots()\n",
    "    if (color == None):\n",
    "        plt.style.use('seaborn-pastel')\n",
    "    ax1.pie(data,\n",
    "            labels=labels,\n",
    "            autopct=\"%.1f%%\",\n",
    "            startangle=90,\n",
    "            colors=color,\n",
    "            pctdistance=0.85)\n",
    "\n",
    "    fig = plt.gcf()\n",
    "    ax1.axis('equal')\n",
    "    plt.tight_layout()\n",
    "    plt.title(title)"
   ]
  },
  {
   "cell_type": "code",
   "execution_count": 25,
   "id": "085a45be",
   "metadata": {},
   "outputs": [],
   "source": [
    "def plotBarChartByAgeRange(dataset, columnName, label, title):\n",
    "    ageRange = list(range(15, 95, 5))\n",
    "\n",
    "    plt.figure(figsize=(18, 25))\n",
    "    plt.subplot(3, 2, 1)\n",
    "    dataset.groupby(pd.cut(dataset.age, ageRange))[columnName].mean().plot.bar()\n",
    "    plt.ylabel(label)\n",
    "    plt.title(title)\n"
   ]
  },
  {
   "cell_type": "markdown",
   "id": "28296aaa",
   "metadata": {},
   "source": [
    "## Dataset reading"
   ]
  },
  {
   "cell_type": "code",
   "execution_count": 26,
   "id": "a2046705",
   "metadata": {},
   "outputs": [
    {
     "ename": "NameError",
     "evalue": "name 'dados_orig' is not defined",
     "output_type": "error",
     "traceback": [
      "\u001b[1;31m---------------------------------------------------------------------------\u001b[0m",
      "\u001b[1;31mNameError\u001b[0m                                 Traceback (most recent call last)",
      "Input \u001b[1;32mIn [26]\u001b[0m, in \u001b[0;36m<cell line: 2>\u001b[1;34m()\u001b[0m\n\u001b[0;32m      1\u001b[0m \u001b[38;5;66;03m#Identificar se há null values no dataset\u001b[39;00m\n\u001b[1;32m----> 2\u001b[0m \u001b[43mdados_orig\u001b[49m\u001b[38;5;241m.\u001b[39misnull()\u001b[38;5;241m.\u001b[39msum()\n",
      "\u001b[1;31mNameError\u001b[0m: name 'dados_orig' is not defined"
     ]
    }
   ],
   "source": [
    "#Identificar se há null values no dataset\n",
    "dados_orig.isnull().sum()"
   ]
  },
  {
   "cell_type": "code",
   "execution_count": null,
   "id": "bd3ca9b5",
   "metadata": {},
   "outputs": [],
   "source": [
    "#Identificar se há Nan values no dataset\n",
    "dados_orig.isna().sum()"
   ]
  },
  {
   "cell_type": "code",
   "execution_count": null,
   "id": "2599dbcf",
   "metadata": {},
   "outputs": [],
   "source": [
    "#Identificar possiveis valores duplicados no dataset\n",
    "print(dados_orig.duplicated().sum())"
   ]
  },
  {
   "cell_type": "code",
   "execution_count": null,
   "id": "452cc082",
   "metadata": {},
   "outputs": [],
   "source": [
    "# ------------------- ANALISAR O NOSSO TARGET ---------------------------\n"
   ]
  },
  {
   "cell_type": "code",
   "execution_count": null,
   "id": "4eec603e",
   "metadata": {},
   "outputs": [],
   "source": [
    "X = dados_orig.drop('y',axis=1)\n",
    "Y = dados_orig['y']"
   ]
  },
  {
   "cell_type": "code",
   "execution_count": null,
   "id": "7d256be0",
   "metadata": {},
   "outputs": [],
   "source": [
    "from imblearn.under_sampling import RandomUnderSampler\n",
    "\n",
    "rus = RandomUnderSampler(sampling_strategy='majority',random_state=1)\n",
    "x_dados , y_dados = rus.fit_resample(X,Y)"
   ]
  },
  {
   "cell_type": "code",
   "execution_count": null,
   "id": "a892a0f2",
   "metadata": {},
   "outputs": [],
   "source": [
    "y_dados = y_dados.reset_index()\n",
    "y_dados.drop('index', axis=1, inplace=True)"
   ]
  },
  {
   "cell_type": "code",
   "execution_count": null,
   "id": "501bc14d",
   "metadata": {},
   "outputs": [],
   "source": [
    "dados = pd.concat([x_dados,y_dados],axis=1)"
   ]
  },
  {
   "cell_type": "markdown",
   "id": "0b5ec98e",
   "metadata": {},
   "source": [
    "### Resampling Imbalanced Dataset"
   ]
  },
  {
   "cell_type": "code",
   "execution_count": null,
   "id": "542e160c",
   "metadata": {},
   "outputs": [],
   "source": [
    "X = fullDataset.drop('y',axis=1)\n",
    "Y = fullDataset['y']\n",
    "\n",
    "rus = RandomUnderSampler(sampling_strategy='majority', random_state=1)\n",
    "xData, yData = rus.fit_resample(X, Y)\n",
    "\n",
    "yData = yData.reset_index()\n",
    "yData.drop('index', axis=1, inplace=True)\n",
    "\n",
    "dataset = pd.concat([xData, yData], axis=1)"
   ]
  },
  {
   "cell_type": "code",
   "execution_count": null,
   "id": "5f846b96",
   "metadata": {},
   "outputs": [],
   "source": [
    "yData.y.value_counts()"
   ]
  },
  {
   "cell_type": "code",
   "execution_count": null,
   "id": "a5a30b57",
   "metadata": {},
   "outputs": [],
   "source": [
    "plt.figure(figsize = (12,10))\n",
    "plt.subplot(2,2,1)\n",
    "sea.countplot(data=fullDataset, x='y')\n",
    "plt.title('Target Count')\n",
    "\n",
    "plt.subplot(2,2,2)\n",
    "labels = fullDataset['y'].value_counts(sort=True).index\n",
    "sizes = fullDataset['y'].value_counts(sort=True)\n",
    "plt.pie(sizes,labels=labels,autopct='%.2f')\n",
    "plt.title('Target Yes and No')\n",
    "\n",
    "plt.subplot(2,2,3)\n",
    "sea.countplot(data=yData, x='y')\n",
    "plt.title('Target Count')\n",
    "\n",
    "plt.subplot(2,2,4)\n",
    "labels = yData['y'].value_counts(sort=True).index\n",
    "sizes = yData['y'].value_counts(sort=True)\n",
    "plt.pie(sizes,labels=labels,autopct='%.2f')\n",
    "plt.title('Target Yes and No')"
   ]
  },
  {
   "cell_type": "markdown",
   "id": "33de62d1",
   "metadata": {},
   "source": [
    "## Features Analysis"
   ]
  },
  {
   "cell_type": "markdown",
   "id": "ab3e5414",
   "metadata": {},
   "source": [
    "### Find the numeric outliers so that we can drop them when we get there"
   ]
  },
  {
   "cell_type": "code",
   "execution_count": null,
   "id": "34a51731",
   "metadata": {},
   "outputs": [],
   "source": [
    "\n",
    "cols = ['age','balance','day','duration','campaign','pdays','previous']\n",
    "colsY=cols\n",
    "colsY += ['y']\n",
    "\n",
    "\n",
    "#plt.figure(figsize=(15,18))\n",
    "#for i,numericDataset in enumerate(colsY):\n",
    " #   print(i,numericDataset)\n",
    "  #  plt.subplot(4,2,i+1)\n",
    "   # sea.boxplot(x=numericDataset,data=dataset[cols])\n",
    "    #plt.title(\"Boxplot of {}\".format(numericDataset),size=20,color=\"red\")\n",
    "    #plt.xlabel(\"{}\".format(numericDataset),size=15)\n",
    "#plt.tight_layout()"
   ]
  },
  {
   "cell_type": "markdown",
   "id": "4a6b5fc2",
   "metadata": {},
   "source": [
    "### Age"
   ]
  },
  {
   "cell_type": "code",
   "execution_count": null,
   "id": "4435ac23",
   "metadata": {},
   "outputs": [],
   "source": [
    "numericAnalysis(\"age\", dataset)"
   ]
  },
  {
   "cell_type": "code",
   "execution_count": null,
   "id": "7bd80d34",
   "metadata": {},
   "outputs": [],
   "source": [
    "plotBarChart(dataset, \"age\")"
   ]
  },
  {
   "cell_type": "code",
   "execution_count": null,
   "id": "752e2acc",
   "metadata": {},
   "outputs": [],
   "source": [
    "sea.boxplot(x=dataset[\"age\"])\n",
    "plt.title(\"Age quantiles\")"
   ]
  },
  {
   "cell_type": "markdown",
   "id": "186bf1e5",
   "metadata": {},
   "source": [
    "### Job"
   ]
  },
  {
   "cell_type": "code",
   "execution_count": null,
   "id": "5d5b7149",
   "metadata": {},
   "outputs": [],
   "source": [
    "jobCounts = dataset[\"job\"].value_counts()\n",
    "jobCounts"
   ]
  },
  {
   "cell_type": "code",
   "execution_count": null,
   "id": "f78608c0",
   "metadata": {},
   "outputs": [],
   "source": [
    "jobCountsPercentage = dataset[\"job\"].value_counts(normalize=True) * 100\n",
    "jobCountsPercentage"
   ]
  },
  {
   "cell_type": "code",
   "execution_count": null,
   "id": "146e1eb3",
   "metadata": {},
   "outputs": [],
   "source": [
    "plotBarChart(dataset, \"job\")\n",
    "\n",
    "plotPieChart(jobCounts.tolist(), jobCounts.keys(), \"job\")"
   ]
  },
  {
   "cell_type": "markdown",
   "id": "5fe88e0a",
   "metadata": {},
   "source": [
    "### Marital status"
   ]
  },
  {
   "cell_type": "code",
   "execution_count": null,
   "id": "d387d69f",
   "metadata": {},
   "outputs": [],
   "source": [
    "maritalCounts = dataset[\"marital\"].value_counts()\n",
    "maritalCounts"
   ]
  },
  {
   "cell_type": "code",
   "execution_count": null,
   "id": "f370f270",
   "metadata": {},
   "outputs": [],
   "source": [
    "maritalCountsPercentage = dataset[\"marital\"].value_counts(normalize=True) * 100\n",
    "maritalCountsPercentage"
   ]
  },
  {
   "cell_type": "code",
   "execution_count": null,
   "id": "1300877a",
   "metadata": {},
   "outputs": [],
   "source": [
    "#Vizualizacao house loan plt pie\n",
    "plt.figure(figsize =(12,5))\n",
    "plt.subplot(1,2,1)\n",
    "sea.countplot(data=x_dados, x='housing')\n",
    "plt.title('Credito a habitacao')\n",
    "plt.subplot(1,2,2)\n",
    "labels=x_dados['housing'].value_counts(sort=True).index\n",
    "sizes=x_dados['housing'].value_counts(sort=True)\n",
    "plt.pie(sizes,labels=labels,autopct='%.2f')\n",
    "plt.title('Credito a habitaçao')"
   ]
  },
  {
   "cell_type": "markdown",
   "id": "0ad8e874",
   "metadata": {},
   "source": [
    "### Education"
   ]
  },
  {
   "cell_type": "code",
   "execution_count": null,
   "id": "e78f7702",
   "metadata": {},
   "outputs": [],
   "source": [
    "educationCounts = dataset[\"education\"].value_counts()\n",
    "educationCounts"
   ]
  },
  {
   "cell_type": "code",
   "execution_count": null,
   "id": "a2dc6d5f",
   "metadata": {},
   "outputs": [],
   "source": [
    "educationCountsPercentage = dataset[\"education\"].value_counts(normalize=True) * 100\n",
    "educationCountsPercentage"
   ]
  },
  {
   "cell_type": "code",
   "execution_count": null,
   "id": "4fad767f",
   "metadata": {},
   "outputs": [],
   "source": [
    "plotBarChart(dataset, \"education\")\n",
    "\n",
    "plotPieChart(educationCounts.tolist(), educationCounts.keys(), \"education\")"
   ]
  },
  {
   "cell_type": "markdown",
   "id": "3e93e8f5",
   "metadata": {},
   "source": [
    "### Default"
   ]
  },
  {
   "cell_type": "code",
   "execution_count": null,
   "id": "1e799e90",
   "metadata": {},
   "outputs": [],
   "source": [
    "defaultCounts = dataset[\"default\"].value_counts()\n",
    "defaultCounts"
   ]
  },
  {
   "cell_type": "code",
   "execution_count": null,
   "id": "0d8bfa88",
   "metadata": {},
   "outputs": [],
   "source": [
    "defaultCountsPercentage = dataset[\"default\"].value_counts(normalize=True) * 100\n",
    "defaultCountsPercentage"
   ]
  },
  {
   "cell_type": "code",
   "execution_count": null,
   "id": "4440dbae",
   "metadata": {},
   "outputs": [],
   "source": [
    "plotBarChart(dataset, \"default\")\n",
    "\n",
    "plotPieChart(defaultCounts.tolist(), defaultCounts.keys(), \"default\")"
   ]
  },
  {
   "cell_type": "markdown",
   "id": "c63d7b68",
   "metadata": {},
   "source": [
    "### Housing"
   ]
  },
  {
   "cell_type": "code",
   "execution_count": null,
   "id": "1665dadf",
   "metadata": {},
   "outputs": [],
   "source": [
    "defaultCounts = dataset[\"default\"].value_counts()\n",
    "defaultCounts"
   ]
  },
  {
   "cell_type": "code",
   "execution_count": null,
   "id": "6f99725f",
   "metadata": {},
   "outputs": [],
   "source": [
    "defaultCountsPercentage = dataset[\"default\"].value_counts(normalize=True) * 100\n",
    "defaultCountsPercentage"
   ]
  },
  {
   "cell_type": "code",
   "execution_count": null,
   "id": "91393d8b",
   "metadata": {},
   "outputs": [],
   "source": [
    "plotBarChart(dataset, \"default\")\n",
    "\n",
    "plotPieChart(defaultCounts.tolist(), defaultCounts.keys(), \"default\")"
   ]
  },
  {
   "cell_type": "markdown",
   "id": "e4ec6f5b",
   "metadata": {},
   "source": [
    "### Loan"
   ]
  },
  {
   "cell_type": "code",
   "execution_count": null,
   "id": "de21c533",
   "metadata": {},
   "outputs": [],
   "source": [
    "loanCounts = dataset[\"loan\"].value_counts()\n",
    "loanCounts"
   ]
  },
  {
   "cell_type": "code",
   "execution_count": null,
   "id": "07559879",
   "metadata": {},
   "outputs": [],
   "source": [
    "loanCountsPercentage = dataset[\"loan\"].value_counts(normalize=True) * 100\n",
    "loanCountsPercentage"
   ]
  },
  {
   "cell_type": "code",
   "execution_count": null,
   "id": "5afd8577",
   "metadata": {},
   "outputs": [],
   "source": [
    "\n",
    "plotPieChart(loanCounts.tolist(), loanCounts.keys(), \"loan\")"
   ]
  },
  {
   "cell_type": "markdown",
   "id": "dfebf451",
   "metadata": {},
   "source": [
    "### Contact"
   ]
  },
  {
   "cell_type": "code",
   "execution_count": null,
   "id": "78d8a28b",
   "metadata": {},
   "outputs": [],
   "source": [
    "contactCounts = dataset[\"contact\"].value_counts()\n",
    "contactCounts"
   ]
  },
  {
   "cell_type": "code",
   "execution_count": null,
   "id": "dc9b41da",
   "metadata": {},
   "outputs": [],
   "source": [
    "contactCountsPercentage = dataset[\"contact\"].value_counts(normalize=True) * 100\n",
    "contactCountsPercentage"
   ]
  },
  {
   "cell_type": "code",
   "execution_count": null,
   "id": "5920c7da",
   "metadata": {},
   "outputs": [],
   "source": [
    "# Distribuicoes dos dados quatitativos\n",
    "plt.figure(figsize=(10,10))\n",
    "\n",
    "plotPieChart(contactCounts.tolist(), contactCounts.keys(), \"contact\")"
   ]
  },
  {
   "cell_type": "markdown",
   "id": "c54bbb78",
   "metadata": {},
   "source": [
    "### Month"
   ]
  },
  {
   "cell_type": "code",
   "execution_count": null,
   "id": "712a920f",
   "metadata": {},
   "outputs": [],
   "source": [
    "monthCounts = dataset[\"month\"].value_counts()\n",
    "monthCounts"
   ]
  },
  {
   "cell_type": "code",
   "execution_count": null,
   "id": "d40ae4fd",
   "metadata": {},
   "outputs": [],
   "source": [
    "monthCountsPercentage = dataset[\"month\"].value_counts(normalize=True) * 100\n",
    "monthCountsPercentage"
   ]
  },
  {
   "cell_type": "code",
   "execution_count": null,
   "id": "1171586c",
   "metadata": {},
   "outputs": [],
   "source": [
    "plotBarChart(dataset, \"month\")\n",
    "\n",
    "plotPieChart(monthCounts.tolist(), monthCounts.keys(), \"month\")"
   ]
  },
  {
   "cell_type": "markdown",
   "id": "d91eafbe",
   "metadata": {},
   "source": [
    "### Day of week"
   ]
  },
  {
   "cell_type": "code",
   "execution_count": null,
   "id": "2cc726f8",
   "metadata": {},
   "outputs": [],
   "source": [
    "dayOfWeekCounts = dataset[\"day\"].value_counts()\n",
    "dayOfWeekCounts"
   ]
  },
  {
   "cell_type": "code",
   "execution_count": null,
   "id": "59d8d09a",
   "metadata": {},
   "outputs": [],
   "source": [
    "dayOfWeekCountsPercentage = dataset[\"day\"].value_counts(normalize=True) * 100\n",
    "dayOfWeekCountsPercentage"
   ]
  },
  {
   "cell_type": "code",
   "execution_count": null,
   "id": "033b1b8e",
   "metadata": {},
   "outputs": [],
   "source": [
    "plotBarChart(dataset, \"day\")\n",
    "\n",
    "plotPieChart(dayOfWeekCounts.tolist(), dayOfWeekCounts.keys(), \"day\")"
   ]
  },
  {
   "cell_type": "markdown",
   "id": "97a02415",
   "metadata": {},
   "source": [
    "### Last contact duration"
   ]
  },
  {
   "cell_type": "code",
   "execution_count": null,
   "id": "9615b8cb",
   "metadata": {},
   "outputs": [],
   "source": [
    "numericAnalysis(\"duration\", dataset)"
   ]
  },
  {
   "cell_type": "code",
   "execution_count": null,
   "id": "513e1d1c",
   "metadata": {},
   "outputs": [],
   "source": [
    "durationCounts = dataset[\"duration\"].value_counts()\n",
    "durationCounts"
   ]
  },
  {
   "cell_type": "code",
   "execution_count": null,
   "id": "700e405f",
   "metadata": {},
   "outputs": [],
   "source": [
    "durationCountsPercentage = dataset[\"duration\"].value_counts(normalize=True) * 100\n",
    "durationCountsPercentage"
   ]
  },
  {
   "cell_type": "code",
   "execution_count": null,
   "id": "1a2eda21",
   "metadata": {},
   "outputs": [],
   "source": [
    "plotBarChart(dataset, \"duration\")\n",
    "\n",
    "plotPieChart(durationCounts.tolist(), durationCounts.keys(), \"duration\")"
   ]
  },
  {
   "cell_type": "markdown",
   "id": "1876cf32",
   "metadata": {},
   "source": [
    "##### Outlier"
   ]
  },
  {
   "cell_type": "code",
   "execution_count": null,
   "id": "85c7b461",
   "metadata": {},
   "outputs": [],
   "source": [
    "#Remove data where duration is bigger than 2500\n",
    "dataset.drop(dataset[dataset['duration']>2500].index,inplace=True,axis=0)\n"
   ]
  },
  {
   "cell_type": "markdown",
   "id": "c1c1b488",
   "metadata": {},
   "source": [
    "### Campaign"
   ]
  },
  {
   "cell_type": "code",
   "execution_count": null,
   "id": "b37d00b5",
   "metadata": {},
   "outputs": [],
   "source": [
    "numericAnalysis(\"campaign\", dataset)"
   ]
  },
  {
   "cell_type": "code",
   "execution_count": null,
   "id": "0db08835",
   "metadata": {},
   "outputs": [],
   "source": [
    "maritalCounts = dataset[\"campaign\"].value_counts()\n",
    "maritalCounts"
   ]
  },
  {
   "cell_type": "code",
   "execution_count": null,
   "id": "44fbfd76",
   "metadata": {},
   "outputs": [],
   "source": [
    "maritalCountsPercentage = dataset[\"campaign\"].value_counts(normalize=True) * 100\n",
    "maritalCountsPercentage"
   ]
  },
  {
   "cell_type": "code",
   "execution_count": null,
   "id": "786895bc",
   "metadata": {},
   "outputs": [],
   "source": [
    "plotBarChart(dataset, \"campaign\")\n",
    "\n",
    "plotPieChart(maritalCounts.tolist(), maritalCounts.keys(), \"campaign\")"
   ]
  },
  {
   "cell_type": "markdown",
   "id": "ea9aad25",
   "metadata": {},
   "source": [
    "###### Outlier"
   ]
  },
  {
   "cell_type": "code",
   "execution_count": null,
   "id": "7bf2337f",
   "metadata": {},
   "outputs": [],
   "source": [
    "#Remove data where campaign is bigger than 40\n",
    "dataset.drop(dataset[dataset['campaign']>40].index,axis=0,inplace=True)"
   ]
  },
  {
   "cell_type": "markdown",
   "id": "7c1ede33",
   "metadata": {},
   "source": []
  },
  {
   "cell_type": "markdown",
   "id": "8cd0b7af",
   "metadata": {},
   "source": [
    "### Pdays"
   ]
  },
  {
   "cell_type": "code",
   "execution_count": null,
   "id": "7231cbce",
   "metadata": {},
   "outputs": [],
   "source": [
    "numericAnalysis(\"pdays\", dataset)"
   ]
  },
  {
   "cell_type": "code",
   "execution_count": null,
   "id": "6dd90909",
   "metadata": {},
   "outputs": [],
   "source": [
    "maritalCounts = dataset[\"pdays\"].value_counts()\n",
    "maritalCounts"
   ]
  },
  {
   "cell_type": "code",
   "execution_count": null,
   "id": "83b5a9e8",
   "metadata": {},
   "outputs": [],
   "source": [
    "maritalCountsPercentage = dataset[\"pdays\"].value_counts(normalize=True) * 100\n",
    "maritalCountsPercentage"
   ]
  },
  {
   "cell_type": "code",
   "execution_count": null,
   "id": "7503bedf",
   "metadata": {},
   "outputs": [],
   "source": [
    "plotBarChart(dataset, \"pdays\")\n",
    "\n",
    "plotPieChart(maritalCounts.tolist(), maritalCounts.keys(), \"pdays\")"
   ]
  },
  {
   "cell_type": "code",
   "execution_count": null,
   "id": "aff25338",
   "metadata": {},
   "outputs": [],
   "source": [
    "#Remove all pdays data\n",
    "dataset.drop(\"pdays\",inplace=True,axis=1)"
   ]
  },
  {
   "cell_type": "markdown",
   "id": "5af2f259",
   "metadata": {},
   "source": [
    "### Previous"
   ]
  },
  {
   "cell_type": "code",
   "execution_count": null,
   "id": "d9af48ee",
   "metadata": {},
   "outputs": [],
   "source": [
    "numericAnalysis(\"previous\", dataset)"
   ]
  },
  {
   "cell_type": "code",
   "execution_count": null,
   "id": "82fa5bbb",
   "metadata": {},
   "outputs": [],
   "source": [
    "previousCounts = dataset[\"previous\"].value_counts()\n",
    "previousCounts"
   ]
  },
  {
   "cell_type": "code",
   "execution_count": null,
   "id": "be992348",
   "metadata": {},
   "outputs": [],
   "source": [
    "previousCountsPercentage = dataset[\"previous\"].value_counts(normalize=True) * 100\n",
    "previousCountsPercentage"
   ]
  },
  {
   "cell_type": "code",
   "execution_count": null,
   "id": "3f27487f",
   "metadata": {},
   "outputs": [],
   "source": [
    "plotBarChart(dataset, \"previous\")\n",
    "\n",
    "plotPieChart(previousCounts.tolist(), previousCounts.keys(), \"previous\")"
   ]
  },
  {
   "cell_type": "code",
   "execution_count": null,
   "id": "5c8c32dc",
   "metadata": {},
   "outputs": [],
   "source": [
    "#Remove all data where previous is bigger than 30\n",
    "dataset.drop(dataset[dataset['previous']>30].index,axis=0,inplace=True)"
   ]
  },
  {
   "cell_type": "markdown",
   "id": "0645a225",
   "metadata": {},
   "source": [
    "### PoutCome"
   ]
  },
  {
   "cell_type": "code",
   "execution_count": null,
   "id": "3999c85d",
   "metadata": {},
   "outputs": [],
   "source": [
    "poutcomeCounts = dataset[\"poutcome\"].value_counts()\n",
    "poutcomeCounts"
   ]
  },
  {
   "cell_type": "code",
   "execution_count": null,
   "id": "7c09fb00",
   "metadata": {},
   "outputs": [],
   "source": [
    "poutcomeCountsPercentage = dataset[\"poutcome\"].value_counts(normalize=True) * 100\n",
    "poutcomeCountsPercentage"
   ]
  },
  {
   "cell_type": "code",
   "execution_count": null,
   "id": "3aa5dcc6",
   "metadata": {},
   "outputs": [],
   "source": [
    "plotBarChart(dataset, \"poutcome\")\n",
    "\n",
    "plotPieChart(poutcomeCounts.tolist(), poutcomeCounts.keys(), \"poutcome\")"
   ]
  },
  {
   "cell_type": "markdown",
   "id": "c72e10b3",
   "metadata": {},
   "source": [
    "### Y - has the client subscribed a term deposit"
   ]
  },
  {
   "cell_type": "code",
   "execution_count": null,
   "id": "60219038",
   "metadata": {},
   "outputs": [],
   "source": [
    "yCounts = dataset[\"y\"].value_counts()\n",
    "yCounts"
   ]
  },
  {
   "cell_type": "code",
   "execution_count": null,
   "id": "cca1fb45",
   "metadata": {},
   "outputs": [],
   "source": [
    "yCountsPercentage = dataset[\"y\"].value_counts(normalize=True) * 100\n",
    "yCountsPercentage"
   ]
  },
  {
   "cell_type": "code",
   "execution_count": null,
   "id": "b9fb4a61",
   "metadata": {},
   "outputs": [],
   "source": [
    "plotBarChart(dataset, \"y\")\n",
    "\n",
    "plotPieChart(yCounts.tolist(), yCounts.keys(), \"y\")"
   ]
  },
  {
   "cell_type": "markdown",
   "id": "fecb36a1",
   "metadata": {},
   "source": [
    "## Numeric features analysis"
   ]
  },
  {
   "cell_type": "code",
   "execution_count": null,
   "id": "ddf0a89a",
   "metadata": {},
   "outputs": [],
   "source": [
    "plt.figure(figsize=(10,10))\n",
    "\n",
    "for i, col in enumerate(dataset.select_dtypes(include=['int64']).columns):\n",
    "    ax = plt.subplot(3,3, i+1)\n",
    "    sea.histplot(x = dataset[col], ax=ax, kde = True)\n",
    "\n",
    "plt.suptitle('Distributions of quantitative variables')\n",
    "plt.tight_layout()"
   ]
  },
  {
   "cell_type": "markdown",
   "id": "5c334767",
   "metadata": {},
   "source": [
    "## Categoric features analisys in relation to target"
   ]
  },
  {
   "cell_type": "code",
   "execution_count": null,
   "id": "7620b2da",
   "metadata": {},
   "outputs": [],
   "source": [
    "#divide data\n",
    "datasetTemp = dataset.copy()\n",
    "datasetCat = datasetTemp.select_dtypes(include='object').columns.drop([\"y\", \"job\"])"
   ]
  },
  {
   "cell_type": "code",
   "execution_count": null,
   "id": "40580123",
   "metadata": {},
   "outputs": [],
   "source": [
    "plt.figure(figsize=(13, 15))\n",
    "\n",
    "for i, data in enumerate(datasetCat):\n",
    "    plt.subplot(4, 2, i + 1)\n",
    "    sea.countplot(x=data, hue='y', data=dataset, edgecolor=\"black\")\n",
    "    plt.title(\"Countplot of {}  by deposit\".format(data))\n",
    "plt.tight_layout()\n",
    "plt.show()\n",
    "\n",
    "plt.figure(figsize=[14, 5])\n",
    "sea.countplot(x='job', hue='y', edgecolor=\"black\", data=dataset)\n",
    "plt.title(\"Countplot of job by deposit\")\n",
    "plt.show()"
   ]
  },
  {
   "cell_type": "markdown",
   "id": "a6e23554",
   "metadata": {},
   "source": [
    "## Features distribution by age range"
   ]
  },
  {
   "cell_type": "code",
   "execution_count": null,
   "id": "127d81af",
   "metadata": {},
   "outputs": [],
   "source": [
    "plotBarChartByAgeRange(dataset, \"duration\", 'Average call duration','Distribution of average call duration by age group')"
   ]
  },
  {
   "cell_type": "code",
   "execution_count": null,
   "id": "98e33da8",
   "metadata": {},
   "outputs": [],
   "source": [
    "plotBarChartByAgeRange(dataset, \"balance\",'Average Annual Balance in euros','Average distribution of the annual balance in euros by age group')"
   ]
  },
  {
   "cell_type": "code",
   "execution_count": null,
   "id": "b2a02c09",
   "metadata": {},
   "outputs": [],
   "source": [
    "plotBarChartByAgeRange(dataset, \"day\",'Last contact day of the month','Distribution of last day of contact of the month by age group')"
   ]
  },
  {
   "cell_type": "code",
   "execution_count": null,
   "id": "47006a4b",
   "metadata": {},
   "outputs": [],
   "source": [
    "plotBarChartByAgeRange(dataset, \"campaign\",'Number of contacts made during this campaign for a customer','Distribution of number of contacts made during this campaign to a customer by age group')"
   ]
  },
  {
   "cell_type": "code",
   "execution_count": null,
   "id": "55bdedaf",
   "metadata": {},
   "outputs": [],
   "source": [
    "plotBarChartByAgeRange(dataset, \"previous\",'Average number of contacts before this campaign for a customer','Distribution of the average number of contacts before this campaign for a customer')"
   ]
  },
  {
   "cell_type": "markdown",
   "id": "435b459c",
   "metadata": {},
   "source": [
    "## Scatter plots for only numeric data in relation to target"
   ]
  },
  {
   "cell_type": "code",
   "execution_count": null,
   "id": "b74c25d3",
   "metadata": {},
   "outputs": [],
   "source": [
    "cols = ['age','balance','day','duration','campaign','previous']\n",
    "colsY=cols\n",
    "colsY += ['y']\n",
    "datasetNum = dataset[colsY]\n",
    "\n",
    "plt.figure(figsize=(15,18))\n",
    "for i, datasetN in enumerate(cols):\n",
    "    print(i,datasetN)\n",
    "    plt.subplot(4,2,i+1)\n",
    "    sea.scatterplot(x=datasetN, y='y', data=datasetNum, color='yellow')\n",
    "    plt.title(\"scatterplot of {} by target(depositos)\".format(datasetN), size=20, color=\"white\")\n",
    "    plt.xlabel(\"{}\".format(datasetN),size=15)\n",
    "    plt.ylabel(\"Target(depositos)\",size=15)\n",
    "plt.tight_layout()"
   ]
  },
  {
   "cell_type": "markdown",
   "id": "ffb91533",
   "metadata": {},
   "source": [
    "## Correlation Matrix"
   ]
  },
  {
   "cell_type": "code",
   "execution_count": null,
   "id": "56c0eb2a",
   "metadata": {},
   "outputs": [],
   "source": [
    "dataset.corr()\n",
    "plt.subplots(figsize=(18, 13))\n",
    "hmap = sea.heatmap(data=dataset.corr(), annot=True, linewidths=0.5)\n",
    "plt.title(\"Correlation Matrix\", fontsize=15)\n",
    "plt.tight_layout()"
   ]
  },
  {
   "cell_type": "markdown",
   "id": "881823ff",
   "metadata": {},
   "source": [
    "## [Extra] - Comparing data"
   ]
  },
  {
   "cell_type": "markdown",
   "id": "5f018493",
   "metadata": {},
   "source": [
    "### Education with marital status and balance"
   ]
  },
  {
   "cell_type": "code",
   "execution_count": null,
   "id": "a50ff22b",
   "metadata": {},
   "outputs": [],
   "source": [
    "education = dataset.groupby(['marital','education'], as_index=False)['balance'].agg({np.median,np.mean})\n",
    "education = round(education,2)\n",
    "\n",
    "ax = education.unstack(level=0).plot(kind='bar', subplots=True, rot=45, figsize=(20,8), layout=(1,6))\n",
    "plt.tight_layout()"
   ]
  },
  {
   "cell_type": "markdown",
   "id": "162d051f",
   "metadata": {},
   "source": [
    "## Stratified sampling\n"
   ]
  },
  {
   "cell_type": "code",
   "execution_count": null,
   "id": "3a346987",
   "metadata": {},
   "outputs": [],
   "source": [
    "dataset['housing'].value_counts()/len(dataset)\n",
    "dataset['loan'].value_counts()/len(dataset)\n",
    "dataset['default'].value_counts()/len(dataset)\n",
    "\n",
    "# Divide dataset between features e target\n",
    "datasetTarget = dataset['y']\n",
    "dataset = dataset.drop('y',axis=1)\n",
    "\n",
    "# Test and train must have similar loans value\n",
    "\n",
    "dataset['binary'] = dataset['loan'].astype(str) + dataset['default'].astype(str)\n",
    "\n",
    "x_train_set, x_test_set , y_train, y_test  = train_test_split(dataset,datasetTarget,test_size=0.2, random_state=0, stratify=dataset[['binary']])\n",
    "\n",
    "# Remove binary column because it was only an aux for the split\n",
    "x_train_set = x_train_set.drop(\"binary\",axis=1)\n",
    "x_test_set = x_test_set.drop(\"binary\",axis=1)\n",
    "\n",
    "x_train_set['default'].value_counts()/len(x_train_set)\n",
    "x_train_set['loan'].value_counts()/len(x_train_set)\n",
    "\n",
    "x_test_set['default'].value_counts()/len(x_test_set)\n",
    "x_test_set['loan'].value_counts()/len(x_test_set)"
   ]
  },
  {
   "cell_type": "markdown",
   "id": "0165e484",
   "metadata": {},
   "source": [
    "## Enconding categorical data"
   ]
  },
  {
   "cell_type": "markdown",
   "id": "e0434dc6",
   "metadata": {},
   "source": [
    "##### Binary Encoding for data that is 0 or 1\n",
    "##### Ordinal Encoding for ordinal data that can be enumerated\n",
    "##### OneHot Encoding for categorical data\n",
    "##### Dummy Encoding for categorical data but n-1 when creating new features"
   ]
  },
  {
   "cell_type": "code",
   "execution_count": null,
   "id": "a13e8444",
   "metadata": {},
   "outputs": [],
   "source": [
    "class CategoricalEncoder(BaseEstimator, TransformerMixin):\n",
    "    \"\"\"Encode categorical features as a numeric array.\n",
    "    The input to this transformer should be a matrix of integers or strings,\n",
    "    denoting the values taken on by categorical (discrete) features.\n",
    "    The features can be encoded using a one-hot aka one-of-K scheme\n",
    "    (``encoding='onehot'``, the default) or converted to ordinal integers\n",
    "    (``encoding='ordinal'``).\n",
    "    This encoding is needed for feeding categorical data to many scikit-learn\n",
    "    estimators, notably linear models and SVMs with the standard kernels.\n",
    "    Read more in the :ref:`User Guide `.\n",
    "    Parameters\n",
    "    ----------\n",
    "    encoding : str, 'onehot', 'onehot-dense' or 'ordinal'\n",
    "        The type of encoding to use (default is 'onehot'):\n",
    "        - 'onehot': encode the features using a one-hot aka one-of-K scheme\n",
    "          (or also called 'dummy' encoding). This creates a binary column for\n",
    "          each category and returns a sparse matrix.\n",
    "        - 'onehot-dense': the same as 'onehot' but returns a dense array\n",
    "          instead of a sparse matrix.\n",
    "        - 'ordinal': encode the features as ordinal integers. This results in\n",
    "          a single column of integers (0 to n_categories - 1) per feature.\n",
    "    categories : 'auto' or a list of lists/arrays of values.\n",
    "        Categories (unique values) per feature:\n",
    "        - 'auto' : Determine categories automatically from the training data.\n",
    "        - list : ``categories[i]`` holds the categories expected in the ith\n",
    "          column. The passed categories are sorted before encoding the data\n",
    "          (used categories can be found in the ``categories_`` attribute).\n",
    "    dtype : number type, default np.float64\n",
    "        Desired dtype of output.\n",
    "    handle_unknown : 'error' (default) or 'ignore'\n",
    "        Whether to raise an error or ignore if a unknown categorical feature is\n",
    "        present during transform (default is to raise). When this is parameter\n",
    "        is set to 'ignore' and an unknown category is encountered during\n",
    "        transform, the resulting one-hot encoded columns for this feature\n",
    "        will be all zeros.\n",
    "        Ignoring unknown categories is not supported for\n",
    "        ``encoding='ordinal'``.\n",
    "    Attributes\n",
    "    ----------\n",
    "    categories_ : list of arrays\n",
    "        The categories of each feature determined during fitting. When\n",
    "        categories were specified manually, this holds the sorted categories\n",
    "        (in order corresponding with output of `transform`).\n",
    "    Examples\n",
    "    --------\n",
    "    Given a dataset with three features and two samples, we let the encoder\n",
    "    find the maximum value per feature and transform the data to a binary\n",
    "    one-hot encoding.\n",
    "    >>> from sklearn.preprocessing import LabelEncoder\n",
    "    >>> enc = CategoricalEncoder(handle_unknown='ignore')\n",
    "    >>> enc.fit([[0, 0, 3], [1, 1, 0], [0, 2, 1], [1, 0, 2]])\n",
    "    ... # doctest: +ELLIPSIS\n",
    "    CategoricalEncoder(categories='auto', dtype=<... 'numpy.float64'>,\n",
    "              encoding='onehot', handle_unknown='ignore')\n",
    "    >>> enc.transform([[0, 1, 1], [1, 0, 4]]).toarray()\n",
    "    array([[ 1.,  0.,  0.,  1.,  0.,  0.,  1.,  0.,  0.],\n",
    "           [ 0.,  1.,  1.,  0.,  0.,  0.,  0.,  0.,  0.]])\n",
    "    See also\n",
    "    --------\n",
    "    sklearn.preprocessing.OneHotEncoder : performs a one-hot encoding of\n",
    "      integer ordinal features. The ``OneHotEncoder assumes`` that input\n",
    "      features take on values in the range ``[0, max(feature)]`` instead of\n",
    "      using the unique values.\n",
    "    sklearn.feature_extraction.DictVectorizer : performs a one-hot encoding of\n",
    "      dictionary items (also handles string-valued features).\n",
    "    sklearn.feature_extraction.FeatureHasher : performs an approximate one-hot\n",
    "      encoding of dictionary items or strings.\n",
    "    \"\"\"\n",
    "\n",
    "    def __init__(self, encoding='onehot', categories='auto', dtype=np.float64,\n",
    "                 handle_unknown='error'):\n",
    "        self.encoding = encoding\n",
    "        self.categories = categories\n",
    "        self.dtype = dtype\n",
    "        self.handle_unknown = handle_unknown\n",
    "\n",
    "    def fit(self, X, y=None):\n",
    "        \"\"\"Fit the CategoricalEncoder to X.\n",
    "        Parameters\n",
    "        ----------\n",
    "        X : array-like, shape [n_samples, n_feature]\n",
    "            The data to determine the categories of each feature.\n",
    "        Returns\n",
    "        -------\n",
    "        self\n",
    "        \"\"\"\n",
    "\n",
    "        if self.encoding not in ['onehot', 'onehot-dense', 'ordinal']:\n",
    "            template = (\"encoding should be either 'onehot', 'onehot-dense' \"\n",
    "                        \"or 'ordinal', got %s\")\n",
    "            raise ValueError(template % self.handle_unknown)\n",
    "\n",
    "        if self.handle_unknown not in ['error', 'ignore']:\n",
    "            template = (\"handle_unknown should be either 'error' or \"\n",
    "                        \"'ignore', got %s\")\n",
    "            raise ValueError(template % self.handle_unknown)\n",
    "\n",
    "        if self.encoding == 'ordinal' and self.handle_unknown == 'ignore':\n",
    "            raise ValueError(\"handle_unknown='ignore' is not supported for\"\n",
    "                             \" encoding='ordinal'\")\n",
    "\n",
    "        X = check_array(X, dtype=np.object, accept_sparse='csc', copy=True)\n",
    "        n_samples, n_features = X.shape\n",
    "\n",
    "        self._label_encoders_ = [LabelEncoder() for _ in range(n_features)]\n",
    "\n",
    "        for i in range(n_features):\n",
    "            le = self._label_encoders_[i]\n",
    "            Xi = X[:, i]\n",
    "            if self.categories == 'auto':\n",
    "                le.fit(Xi)\n",
    "            else:\n",
    "                valid_mask = np.in1d(Xi, self.categories[i])\n",
    "                if not np.all(valid_mask):\n",
    "                    if self.handle_unknown == 'error':\n",
    "                        diff = np.unique(Xi[~valid_mask])\n",
    "                        msg = (\"Found unknown categories {0} in column {1}\"\n",
    "                               \" during fit\".format(diff, i))\n",
    "                        raise ValueError(msg)\n",
    "                le.classes_ = np.array(np.sort(self.categories[i]))\n",
    "\n",
    "        self.categories_ = [le.classes_ for le in self._label_encoders_]\n",
    "\n",
    "        return self\n",
    "\n",
    "    def transform(self, X):\n",
    "        \"\"\"Transform X using one-hot encoding.\n",
    "        Parameters\n",
    "        ----------\n",
    "        X : array-like, shape [n_samples, n_features]\n",
    "            The data to encode.\n",
    "        Returns\n",
    "        -------\n",
    "        X_out : sparse matrix or a 2-d array\n",
    "            Transformed input.\n",
    "        \"\"\"\n",
    "        X = check_array(X, accept_sparse='csc', dtype=np.object, copy=True)\n",
    "        n_samples, n_features = X.shape\n",
    "        X_int = np.zeros_like(X, dtype=np.int)\n",
    "        X_mask = np.ones_like(X, dtype=np.bool)\n",
    "\n",
    "        for i in range(n_features):\n",
    "            valid_mask = np.in1d(X[:, i], self.categories_[i])\n",
    "\n",
    "            if not np.all(valid_mask):\n",
    "                if self.handle_unknown == 'error':\n",
    "                    diff = np.unique(X[~valid_mask, i])\n",
    "                    msg = (\"Found unknown categories {0} in column {1}\"\n",
    "                           \" during transform\".format(diff, i))\n",
    "                    raise ValueError(msg)\n",
    "                else:\n",
    "                    # Set the problematic rows to an acceptable value and\n",
    "                    # continue `The rows are marked `X_mask` and will be\n",
    "                    # removed later.\n",
    "                    X_mask[:, i] = valid_mask\n",
    "                    X[:, i][~valid_mask] = self.categories_[i][0]\n",
    "            X_int[:, i] = self._label_encoders_[i].transform(X[:, i])\n",
    "\n",
    "        if self.encoding == 'ordinal':\n",
    "            return X_int.astype(self.dtype, copy=False)\n",
    "\n",
    "        mask = X_mask.ravel()\n",
    "        n_values = [cats.shape[0] for cats in self.categories_]\n",
    "        n_values = np.array([0] + n_values)\n",
    "        indices = np.cumsum(n_values)\n",
    "\n",
    "        column_indices = (X_int + indices[:-1]).ravel()[mask]\n",
    "        row_indices = np.repeat(np.arange(n_samples, dtype=np.int32),\n",
    "                                n_features)[mask]\n",
    "        data = np.ones(n_samples * n_features)[mask]\n",
    "\n",
    "        out = sparse.csc_matrix((data, (row_indices, column_indices)),\n",
    "                                shape=(n_samples, indices[-1]),\n",
    "                                dtype=self.dtype).tocsr()\n",
    "        if self.encoding == 'onehot-dense':\n",
    "            return out.toarray()\n",
    "        else:\n",
    "            return out"
   ]
  },
  {
   "cell_type": "code",
   "execution_count": null,
   "id": "cc783de6",
   "metadata": {},
   "outputs": [],
   "source": [
    "\n",
    "class DataFrameSelector(BaseEstimator, TransformerMixin):\n",
    "    def __init__(self, attribute_names):\n",
    "        self.attribute_names = attribute_names\n",
    "    def fit(self, X, y=None):\n",
    "        return self\n",
    "    def transform(self, X):\n",
    "        return X[self.attribute_names]"
   ]
  },
  {
   "cell_type": "markdown",
   "id": "b5723c90",
   "metadata": {},
   "source": [
    "### Pipeline"
   ]
  },
  {
   "cell_type": "code",
   "execution_count": null,
   "id": "1028e9ec",
   "metadata": {},
   "outputs": [],
   "source": [
    "numerical_pipeline = Pipeline([('select_nume', DataFrameSelector(['age','balance','day','campaign','previous','duration'])),('std_scaler', StandardScaler())])\n",
    "\n",
    "binary_encoding = Pipeline([('binary_cat_select',DataFrameSelector(['default','housing','loan'])),('binary_enc',CategoricalEncoder(encoding='onehot-dense'))])\n",
    "\n",
    "ordinal_encoding = Pipeline([('ordinal_cat_select', DataFrameSelector(['month','contact','poutcome'])),('ordianl_enc',CategoricalEncoder(encoding='ordinal'))])\n",
    "\n",
    "dummy_encoding = Pipeline([('dummy_cat_select',DataFrameSelector(['job','marital','education'])),('dummy_enc',CategoricalEncoder(encoding='onehot-dense'))])\n",
    "\n",
    "preprocess_pipeline = FeatureUnion(transformer_list=[('numerical_pipeline',numerical_pipeline),('binary_enc',binary_encoding),('ordinal_encoding',ordinal_encoding),('dummy_encoding',dummy_encoding)])\n",
    "\n",
    "x_train_set = preprocess_pipeline.fit_transform(x_train_set)\n",
    "x_test_set = preprocess_pipeline.fit_transform(x_test_set)"
   ]
  },
  {
   "cell_type": "markdown",
   "id": "05555a0d",
   "metadata": {},
   "source": [
    "### Without pipeline"
   ]
  },
  {
   "cell_type": "code",
   "execution_count": null,
   "id": "469aa18a",
   "metadata": {},
   "outputs": [],
   "source": [
    "#Binary Encoding\n",
    "\n",
    "list_bin = ['default','housing','loan']\n",
    "for i in list_bin:\n",
    "    dataset[i] = LabelBinarizer().fit_transform(dataset[i].values)\n",
    "\n",
    "#Ordinal Encoding\n",
    "\n",
    "list_ordinal=['month','contact','poutcome']\n",
    "for i in list_ordinal:\n",
    "    dataset[i]=LabelEncoder().fit_transform(dataset[i].values)\n",
    "\n",
    "# Dummy Encoding\n",
    "\n",
    "dataset = pd.get_dummies(dataset, columns= ['job','marital','education'])\n",
    "\n",
    "# Reset Index and check dataset again\n",
    "\n",
    "dataset = dataset.reset_index()\n",
    "dataset.drop('index', axis=1, inplace=True)\n",
    "\n",
    "dataset['binary'] = dataset['loan'].astype(str) + dataset['default'].astype(str)\n",
    "\n",
    "x_train_set_np, x_test_set_np , y_train_set_np, y_test_set_np = train_test_split(dataset,datasetTarget,test_size=0.2, random_state=0, stratify=dataset[['binary']])\n",
    "\n",
    "# Binary columns no longer needed\n",
    "x_train_set_np = x_train_set_np.drop(\"binary\",axis=1)\n",
    "x_test_set_np = x_test_set_np.drop(\"binary\",axis=1)\n",
    "\n",
    "\n",
    "#Scaling\n",
    "\n",
    "ss= StandardScaler()\n",
    "\n",
    "x_train_set_np_org = ss.fit_transform(x_train_set_np)\n",
    "\n",
    "x_test_set_np_org = ss.fit_transform(x_test_set_np)\n",
    "x_train_set_np_sc = ss.fit_transform(x_train_set_np[['age','balance','day','duration','campaign','previous']])\n",
    "x_test_set_np_sc = ss.transform(x_test_set_np[['age','balance','day','duration','campaign','previous']])"
   ]
  },
  {
   "cell_type": "markdown",
   "id": "ac934521",
   "metadata": {},
   "source": [
    "### Unsupervised Learning"
   ]
  },
  {
   "cell_type": "code",
   "execution_count": null,
   "id": "59d099bb",
   "metadata": {},
   "outputs": [],
   "source": []
  },
  {
   "cell_type": "code",
   "execution_count": null,
   "id": "2950a18f",
   "metadata": {},
   "outputs": [],
   "source": [
    "from sklearn.metrics import silhouette_score\n",
    "from sklearn.cluster import KMeans\n",
    "\n",
    "scaler = StandardScaler()\n",
    "xTrainScaled = scaler.fit_transform(x_train_set)\n",
    "xTestScaled = scaler.fit_transform(x_test_set)\n",
    "xScaled = scaler.fit_transform(X)\n"
   ]
  },
  {
   "cell_type": "markdown",
   "id": "349340e9",
   "metadata": {},
   "source": [
    " ### KMeans"
   ]
  },
  {
   "cell_type": "code",
   "execution_count": null,
   "id": "a58b4672",
   "metadata": {},
   "outputs": [],
   "source": [
    "numOfClusters = 10\n",
    "sse = [0] * numOfClusters\n",
    "for i in range(0, numOfClusters):\n",
    "    kMeans = KMeans(n_clusters=i + 1, random_state=0).fit(xTrainScaled)\n",
    "    sse[i] = kMeans.inertia_\n",
    "\n",
    "sseNp = np.array(sse)\n",
    "sseNp.sum(), sseNp"
   ]
  },
  {
   "cell_type": "code",
   "execution_count": null,
   "id": "72198960",
   "metadata": {},
   "outputs": [],
   "source": [
    "plt.plot(range(1,numOfClusters + 1), sseNp)"
   ]
  }
 ],
 "metadata": {
  "kernelspec": {
   "display_name": "Python 3 (ipykernel)",
   "language": "python",
   "name": "python3"
  },
  "language_info": {
   "codemirror_mode": {
    "name": "ipython",
    "version": 3
   },
   "file_extension": ".py",
   "mimetype": "text/x-python",
   "name": "python",
   "nbconvert_exporter": "python",
   "pygments_lexer": "ipython3",
   "version": "3.9.13"
  }
 },
 "nbformat": 4,
 "nbformat_minor": 5
}
