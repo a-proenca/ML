{
 "cells": [
  {
   "cell_type": "markdown",
   "id": "f858335e",
   "metadata": {},
   "source": [
    "## Instituto Politécnico de Coimbra\n",
    "## Instituto Superior de Engenharia de Coimbra\n",
    "## Mestrado em Engenharia Informática - Machine Learning\n",
    "## Elaborado por:\n",
    "\n",
    "# André Proença 2016018783\n",
    "\n",
    "# Isabel Castro 2018013160\n",
    "\n",
    "## DATA SET ORIGINAL\n",
    "## [https://archive.ics.uci.edu/ml/datasets/Bank+Marketing](https://archive.ics.uci.edu/ml/datasets/Bank+Marketing)"
   ]
  },
  {
   "cell_type": "code",
   "execution_count": null,
   "id": "5ae4bcca",
   "metadata": {},
   "outputs": [],
   "source": [
    "import seaborn as sea\n",
    "import pandas as pd\n",
    "from matplotlib import pyplot as plt\n",
    "import numpy as np\n",
    "import string\n",
    "from imblearn.under_sampling import RandomUnderSampler\n",
    "from sklearn.preprocessing import LabelEncoder\n",
    "from sklearn.pipeline import Pipeline\n",
    "from sklearn.compose import ColumnTransformer\n",
    "from sklearn.preprocessing import OrdinalEncoder\n",
    "from sklearn.preprocessing import OneHotEncoder\n",
    "from sklearn.preprocessing import LabelBinarizer\n",
    "from sklearn.model_selection import train_test_split\n",
    "from sklearn.preprocessing import StandardScaler\n",
    "import random"
   ]
  },
  {
   "cell_type": "markdown",
   "id": "ca517ec4",
   "metadata": {},
   "source": [
    "## Used functions"
   ]
  },
  {
   "cell_type": "code",
   "execution_count": null,
   "id": "67b7de43",
   "metadata": {},
   "outputs": [],
   "source": [
    "def randcolor(number):\n",
    "    lista = []\n",
    "    for i in range(number):\n",
    "        color = \"%06x\" % random.randint(0, 0xFFFFFF)\n",
    "        lista.append(color)\n",
    "    return lista"
   ]
  },
  {
   "cell_type": "code",
   "execution_count": null,
   "id": "24794560",
   "metadata": {},
   "outputs": [],
   "source": [
    "def plotFigureBoxPlot(columnName,dataset):\n",
    "    plt.figure(figsize=(6,9))\n",
    "    sea.boxplot(x=columnName, data=dataset, color='green')\n",
    "    plt.title(\"Boxplot of {}\" .format(columnName),size=20,color=\"red\")\n",
    "    plt.xlabel(\"{}\".format(columnName),size=15)"
   ]
  },
  {
   "cell_type": "code",
   "execution_count": null,
   "id": "2c2c72ee",
   "metadata": {},
   "outputs": [],
   "source": [
    "def numericAnalysis(columnName, dataframe):\n",
    "    item = dataframe[columnName]\n",
    "\n",
    "    print(\"Mean:\\t\", item.mean())\n",
    "    print(\"Mode:\\t\", item.mode())\n",
    "    print(\"Median:\\t\", item.median())\n",
    "    print(\"Variance:\\t\", item.var())\n",
    "    print(\"Std deviation:\\t\", item.std())\n",
    "    print(\"Percentils (25, 50, 75):\\t\", item.quantile([0, 0.25, 0.5, 0.75, 1]))"
   ]
  },
  {
   "cell_type": "code",
   "execution_count": null,
   "id": "559524df",
   "metadata": {},
   "outputs": [],
   "source": [
    "def plotBarChart(dataset, columnName):\n",
    "    sea.set(style='whitegrid', palette=\"bright\", font_scale=1.1, rc={\"figure.figsize\": [15, 10]})\n",
    "    if(dataset[columnName].dtype != 'object'):\n",
    "        sea.histplot(x=columnName, data=dataset, bins=np.arange(0, 100, 5), kde=True)\n",
    "    else:\n",
    "        sea.histplot(x=columnName, data=dataset, bins=np.arange(0, 100, 5))\n",
    "    plt.title(string.capwords(columnName) + \" \" + \"distribution\")"
   ]
  },
  {
   "cell_type": "code",
   "execution_count": null,
   "id": "a8f695d5",
   "metadata": {},
   "outputs": [],
   "source": [
    "def plotPieChart(data, labels, title, color=None):\n",
    "    \n",
    "    \n",
    "    fig1, ax1 = plt.subplots()\n",
    "    if (color == None):\n",
    "        plt.style.use('seaborn-pastel')\n",
    "    ax1.pie(data,\n",
    "            labels=labels,\n",
    "            autopct=\"%.1f%%\",\n",
    "            startangle=90,\n",
    "            colors=color,\n",
    "            pctdistance=0.85)\n",
    "\n",
    "    fig = plt.gcf()\n",
    "    ax1.axis('equal')\n",
    "    plt.tight_layout()\n",
    "    plt.title(title)"
   ]
  },
  {
   "cell_type": "code",
   "execution_count": null,
   "id": "085a45be",
   "metadata": {},
   "outputs": [],
   "source": [
    "def plotBarChartByAgeRange(dataset, columnName, label, title):\n",
    "    ageRange = list(range(15, 95, 5))\n",
    "\n",
    "    plt.figure(figsize=(18, 25))\n",
    "    plt.subplot(3, 2, 1)\n",
    "    dataset.groupby(pd.cut(dataset.age, ageRange))[columnName].mean().plot.bar()\n",
    "    plt.ylabel(label)\n",
    "    plt.title(title)\n"
   ]
  },
  {
   "cell_type": "markdown",
   "id": "28296aaa",
   "metadata": {},
   "source": [
    "## Dataset reading"
   ]
  },
  {
   "cell_type": "code",
   "execution_count": null,
   "id": "a2046705",
   "metadata": {},
   "outputs": [],
   "source": [
    "fullDataset = pd.read_csv('bank-full.csv', sep=';')"
   ]
  },
  {
   "cell_type": "markdown",
   "id": "0b5ec98e",
   "metadata": {},
   "source": [
    "### Resampling Imbalanced Dataset"
   ]
  },
  {
   "cell_type": "code",
   "execution_count": null,
   "id": "f07bd529",
   "metadata": {},
   "outputs": [],
   "source": [
    "X = fullDataset.drop('y',axis=1)\n",
    "Y = fullDataset['y']\n",
    "\n",
    "xData,xdataa,yData,ydataa = train_test_split(X,Y,train_size=0.22,stratify=Y)\n",
    "\n",
    "yData=pd.DataFrame(yData,columns=['y'])\n",
    "dataset = xData"
   ]
  },
  {
   "cell_type": "code",
   "execution_count": null,
   "id": "300b72f5",
   "metadata": {},
   "outputs": [],
   "source": [
    "# VAMOS DAR DROP A TODAS AS LINHAS COM BALANCE NEGATIVO E VAMOS TAMBEM DAR DROP A LINHAS COM BALANCE MUITO ALTOS\n",
    "dataset.drop(dataset[(dataset['balance']>40000)|(dataset['balance']<0)].index,inplace=True,axis=0)"
   ]
  },
  {
   "cell_type": "code",
   "execution_count": null,
   "id": "85c7b461",
   "metadata": {},
   "outputs": [],
   "source": [
    "#Remove data where duration is bigger than 2500\n",
    "dataset.drop(dataset[dataset['duration']>2500].index,inplace=True,axis=0)"
   ]
  },
  {
   "cell_type": "code",
   "execution_count": null,
   "id": "7bf2337f",
   "metadata": {},
   "outputs": [],
   "source": [
    "#Remove data where campaign is bigger than 35\n",
    "dataset.drop(dataset[dataset['campaign']>35].index,axis=0,inplace=True)"
   ]
  },
  {
   "cell_type": "code",
   "execution_count": null,
   "id": "aff25338",
   "metadata": {},
   "outputs": [],
   "source": [
    "#Remove all pdays data\n",
    "dataset.drop(\"pdays\",inplace=True,axis=1)"
   ]
  },
  {
   "cell_type": "code",
   "execution_count": null,
   "id": "5c8c32dc",
   "metadata": {},
   "outputs": [],
   "source": [
    "#Remove all data where previous is bigger than 30\n",
    "dataset.drop(dataset[dataset['previous']>30].index,axis=0,inplace=True)"
   ]
  },
  {
   "cell_type": "markdown",
   "id": "162d051f",
   "metadata": {},
   "source": [
    "## Stratified sampling\n"
   ]
  },
  {
   "cell_type": "code",
   "execution_count": null,
   "id": "7ebb801a",
   "metadata": {},
   "outputs": [],
   "source": [
    "\n",
    "# Divide dataset between features e target\n",
    "\n",
    "\n",
    "# Test and train must have similar loans value\n",
    "\n",
    "dataset['binary'] = dataset['loan'].astype(str) + dataset['default'].astype(str)\n",
    "\n",
    "x_train_set, x_test_set , y_train, y_test  = train_test_split(dataset,yData,train_size=0.8, random_state=0, stratify=dataset[['binary']])\n",
    "\n",
    "# Remove binary column because it was only an aux for the split\n",
    "x_train_set = x_train_set.drop(\"binary\",axis=1)\n",
    "x_test_set = x_test_set.drop(\"binary\",axis=1)"
   ]
  },
  {
   "cell_type": "markdown",
   "id": "f05e7d70",
   "metadata": {},
   "source": [
    "## Enconding categorical data"
   ]
  },
  {
   "cell_type": "markdown",
   "id": "b5723c90",
   "metadata": {},
   "source": [
    "### Pipeline"
   ]
  },
  {
   "cell_type": "code",
   "execution_count": null,
   "id": "1028e9ec",
   "metadata": {},
   "outputs": [],
   "source": [
    "num_cat = ['age','balance','day','campaign','previous','duration']\n",
    "ordinal_cat = ['month','contact','poutcome']\n",
    "one_hot_cat = ['job','marital','education','default','housing','loan']\n",
    "\n",
    "num_pipe = Pipeline([('scaler',StandardScaler())])\n",
    "\n",
    "categorical_transformer = Pipeline([('onehot',OneHotEncoder(handle_unknown='ignore', sparse=False, drop='if_binary'))])\n",
    "\n",
    "cat_pipe_ordinal = Pipeline([('ordinal_encoder',OrdinalEncoder())])\n",
    "\n",
    "preprocessor = ColumnTransformer([('num_enc',num_pipe,num_cat),('cat_enc',categorical_transformer,one_hot_cat),('ord_enc',cat_pipe_ordinal,ordinal_cat)])\n",
    "\n",
    "x_train_set = preprocessor.fit_transform(x_train_set)\n",
    "x_test_set = preprocessor.fit_transform(x_test_set)"
   ]
  },
  {
   "cell_type": "markdown",
   "id": "05555a0d",
   "metadata": {},
   "source": [
    "### Without pipeline"
   ]
  },
  {
   "cell_type": "code",
   "execution_count": null,
   "id": "54cd4385",
   "metadata": {},
   "outputs": [],
   "source": [
    "#Binary Encoding\n",
    "\n",
    "list_bin = ['default','housing','loan']\n",
    "for i in list_bin:\n",
    "    dataset[i] = LabelBinarizer().fit_transform(dataset[i].values)\n",
    "\n",
    "#Ordinal Encoding\n",
    "\n",
    "list_ordinal=['month','contact','poutcome']\n",
    "for i in list_ordinal:\n",
    "    dataset[i]=LabelEncoder().fit_transform(dataset[i].values)\n",
    "\n",
    "# Dummy Encoding\n",
    "\n",
    "dataset = pd.get_dummies(dataset, columns= ['job','marital','education'])\n",
    "\n",
    "# Reset Index and check dataset again\n",
    "\n",
    "dataset = dataset.reset_index()\n",
    "dataset.drop('index', axis=1, inplace=True)\n",
    "\n",
    "dataset['binary'] = dataset['loan'].astype(str) + dataset['default'].astype(str)\n",
    "\n",
    "x_train_set_np, x_test_set_np , y_train_set_np, y_test_set_np = train_test_split(dataset,datasetTarget,test_size=0.2, random_state=0, stratify=dataset[['binary']])\n",
    "\n",
    "# Binary columns no longer needed\n",
    "x_train_set_np = x_train_set_np.drop(\"binary\",axis=1)\n",
    "x_test_set_np = x_test_set_np.drop(\"binary\",axis=1)\n",
    "\n",
    "\n",
    "#Scaling\n",
    "\n",
    "ss= StandardScaler()\n",
    "\n",
    "x_train_set_np_org = ss.fit_transform(x_train_set_np)\n",
    "x_test_set_np_org = ss.fit_transform(x_test_set_np)\n",
    "\n",
    "x_train_set_np_sc = ss.fit_transform(x_train_set_np[['age','balance','day','duration','campaign','previous']])\n",
    "x_test_set_np_sc = ss.transform(x_test_set_np[['age','balance','day','duration','campaign','previous']])\n"
   ]
  },
  {
   "cell_type": "markdown",
   "id": "faf482b5",
   "metadata": {},
   "source": [
    "## Unsupervised Learning Clustering\n"
   ]
  },
  {
   "cell_type": "markdown",
   "id": "f351d01a",
   "metadata": {},
   "source": [
    "### KMeans"
   ]
  },
  {
   "cell_type": "code",
   "execution_count": null,
   "id": "107012be",
   "metadata": {},
   "outputs": [],
   "source": [
    "from sklearn.metrics import silhouette_score\n",
    "from sklearn.cluster import KMeans\n",
    "\n",
    "numOfClusters = 10\n",
    "sse = [0] * numOfClusters\n",
    "for i in range(0,numOfClusters):\n",
    "    kMeans = KMeans(n_clusters=i + 1, random_state=0).fit(xTrainScaled)\n",
    "    sse[i] = kMeans.inertia_\n",
    "\n",
    "sseNp = np.array(sse)\n",
    "sseNp.sum(), sseNp"
   ]
  },
  {
   "cell_type": "code",
   "execution_count": null,
   "id": "c6676e79",
   "metadata": {},
   "outputs": [],
   "source": [
    "#Imprime o valor de precisão do algoritmo de teste\n",
    "def testAccuracy(pred):\n",
    "    count=0\n",
    "    for i in range (len(pred)):\n",
    "        if ytest[i]==pred[i]:\n",
    "            count=count+1\n",
    "    print(\"Accuracy:\",count/len(pred)) "
   ]
  },
  {
   "cell_type": "code",
   "execution_count": null,
   "id": "0c7f3fdb",
   "metadata": {},
   "outputs": [],
   "source": [
    "#Pipeline com K-neighbours como classificador\n",
    "def pipelineKNN():\n",
    "    pipeline=Pipeline([\n",
    "            (\"cluster\",function()),\n",
    "            (\"KNeighbors\",KNeighborsClassifier(n_neighbors=21,leaf_size=100)),           \n",
    "            ])\n",
    "    pipeline.fit(xtrain,ytrain)\n",
    "    print(\"Accuracy Pipeline:\",pipeline.score(xtest,ytest))"
   ]
  },
  {
   "cell_type": "code",
   "execution_count": null,
   "id": "e11cf7b5",
   "metadata": {},
   "outputs": [],
   "source": [
    "kMeans = KMeans(n_clusters=5, random_state=0)\n",
    "kMeans.fit(x_train_set)\n",
    "yKmeans = kMeans.predict(x_test_set)\n",
    "silhouette_score(x_test_set, yKmeans)\n",
    "\n",
    "\n",
    "km=KMeans(n_clusters=2)\n",
    "km.fit(x_train_set)\n",
    "pred=km.predict(x_test_set)\n",
    "print(\"K-mean Scores\\n-------------\")\n",
    "testAccuracy(pred)\n",
    "pipelineKNN(lambda:KMeans(n_clusters=2))\n",
    "    \n",
    "    \n",
    "    "
   ]
  },
  {
   "cell_type": "code",
   "execution_count": null,
   "id": "28cb35e1",
   "metadata": {},
   "outputs": [],
   "source": [
    "from sklearn.metrics.cluster import adjusted_rand_score, normalized_mutual_info_score, homogeneity_score, completeness_score\n",
    "\n",
    "groups = kMeans.labels_\n",
    "groups\n",
    "\n",
    "print('Homogeneity: ', homogeneity_score(y, groups))\n",
    "print('Completeness: ', completeness_score(y, groups))\n",
    "print('ARI: ', adjusted_rand_score(y, groups))\n",
    "print('NMI: ', normalized_mutual_info_score(y, groups))"
   ]
  },
  {
   "cell_type": "markdown",
   "id": "620d0c6a",
   "metadata": {},
   "source": [
    "### Hierarchical clustering - Agglomerative"
   ]
  },
  {
   "cell_type": "code",
   "execution_count": null,
   "id": "0d38b5f5",
   "metadata": {},
   "outputs": [],
   "source": [
    "def plot_dendrogram(model, **kwargs):\n",
    "    # Create linkage matrix and then plot the dendrogram\n",
    "\n",
    "    # create the counts of samples under each node\n",
    "    counts = np.zeros(model.children_.shape[0])\n",
    "    n_samples = len(model.labels_)\n",
    "    for i, merge in enumerate(model.children_):\n",
    "        current_count = 0\n",
    "        for child_idx in merge:\n",
    "            if child_idx < n_samples:\n",
    "                current_count += 1  # leaf node\n",
    "            else:\n",
    "                current_count += counts[child_idx - n_samples]\n",
    "        counts[i] = current_count\n",
    "\n",
    "    linkage_matrix = np.column_stack(\n",
    "        [model.children_, model.distances_, counts]\n",
    "    ).astype(float)\n",
    "\n",
    "    # Plot the corresponding dendrogram\n",
    "    dendrogram(linkage_matrix, **kwargs)"
   ]
  },
  {
   "cell_type": "code",
   "execution_count": null,
   "id": "1bea14cf",
   "metadata": {},
   "outputs": [],
   "source": [
    "#Imprime o valor de precisão do algoritmo de treino\n",
    "def trainAccuracy(pred):\n",
    "    count=0\n",
    "    for i in range (len(pred)):\n",
    "        if ytrain[i]==pred[i]:\n",
    "            count=count+1\n",
    "    print(\"Accuracy:\",count/len(pred))  "
   ]
  },
  {
   "cell_type": "code",
   "execution_count": null,
   "id": "3a8ca413",
   "metadata": {},
   "outputs": [],
   "source": [
    "from sklearn.cluster import AgglomerativeClustering\n",
    "aggClustering = AgglomerativeClustering(distance_threshold=0, n_clusters=None).fit(x_train_set)\n",
    "aggClustering.labels_ "
   ]
  },
  {
   "cell_type": "code",
   "execution_count": null,
   "id": "70ceb764",
   "metadata": {},
   "outputs": [],
   "source": [
    "#from https://scikit-learn.org/stable/auto_examples/cluster/plot_agglomerative_dendrogram.html#sphx-glr-auto-examples-cluster-plot-agglomerative-dendrogram-py\n",
    "from scipy.cluster.hierarchy import dendrogram\n",
    "plt.title(\"Hierarchical Clustering Dendrogram\")\n",
    "plot_dendrogram(aggClustering, truncate_mode=\"level\", p=2)\n",
    "plt.xlabel(\"Number of points in node (or index of point if no parenthesis).\")\n",
    "plt.show()"
   ]
  },
  {
   "cell_type": "code",
   "execution_count": null,
   "id": "5123f791",
   "metadata": {},
   "outputs": [],
   "source": [
    "agg=AgglomerativeClustering(n_clusters=2)\n",
    "pred=agg.fit_predict(x_train_set)\n",
    "print()\n",
    "print(\"Agglomerative Clustering Scores\\n-------------\")\n",
    "trainAccuracy(pred) "
   ]
  },
  {
   "cell_type": "markdown",
   "id": "1d04e8cd",
   "metadata": {},
   "source": [
    "### MeanShift"
   ]
  },
  {
   "cell_type": "code",
   "execution_count": null,
   "id": "986c1e16",
   "metadata": {},
   "outputs": [],
   "source": [
    "from sklearn.cluster import MeanShift\n",
    "ms = MeanShift(bandwidth=2).fit(x_train_set)\n",
    "ms.labels_ \n",
    "c = ms.predict(x_test_set)\n",
    "aggClustering.labels_"
   ]
  },
  {
   "cell_type": "markdown",
   "id": "00c73a3c",
   "metadata": {},
   "source": [
    "### Birch"
   ]
  },
  {
   "cell_type": "code",
   "execution_count": null,
   "id": "93f80fa8",
   "metadata": {},
   "outputs": [],
   "source": [
    "b=Birch(n_clusters=2)\n",
    "b.fit(x_train_set)\n",
    "pred=b.predict(x_test_set)\n",
    "print()\n",
    "print(\"Birch Scores\\n-------------\")\n",
    "testAccuracy(pred)\n",
    "pipelineKNN(lambda:Birch(n_clusters=2))"
   ]
  },
  {
   "cell_type": "markdown",
   "id": "229f891d",
   "metadata": {},
   "source": [
    "### Spectral"
   ]
  },
  {
   "cell_type": "code",
   "execution_count": null,
   "id": "5f8dce17",
   "metadata": {},
   "outputs": [],
   "source": [
    "s=SpectralClustering(n_clusters=5)\n",
    "pred=s.fit_predict(x_train_set)\n",
    "print()\n",
    "print(\"Spectral Clustering Propagation Scores\\n-------------\")\n",
    "trainAccuracy(pred)"
   ]
  }
 ],
 "metadata": {
  "kernelspec": {
   "display_name": "Python 3 (ipykernel)",
   "language": "python",
   "name": "python3"
  },
  "language_info": {
   "codemirror_mode": {
    "name": "ipython",
    "version": 3
   },
   "file_extension": ".py",
   "mimetype": "text/x-python",
   "name": "python",
   "nbconvert_exporter": "python",
   "pygments_lexer": "ipython3",
   "version": "3.9.13"
  }
 },
 "nbformat": 4,
 "nbformat_minor": 5
}
